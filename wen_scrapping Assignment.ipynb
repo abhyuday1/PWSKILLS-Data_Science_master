{
 "cells": [
  {
   "cell_type": "markdown",
   "id": "ffbc9a0b",
   "metadata": {},
   "source": [
    "## What is Web Scraping? Why is it Used? Give three areas where Web Scraping is used to get data.\n",
    "\n",
    "\n",
    "--Web Scraping is the automated process of extracting data from websites. It involves using software tools or scripts to access and parse the HTML content of web pages, extract the desired information, and save it in a structured format\n",
    "\n",
    "#### Web scraping is used for a variety of reasons:-\n",
    "1. Data Collection and Analysis:\n",
    "    Gathering large amounts of data from multiple sources quickly and efficiently.\n",
    "    Extracting data for research, market analysis, sentiment analysis, or trend tracking.\n",
    "\n",
    "2. Business and Competitive Intelligence:\n",
    "    Monitoring competitors' product prices, features, and strategies.\n",
    "    Gathering data on market trends, customer reviews, and consumer behavior.\n",
    "    \n",
    "  #### Three specific areas where web scraping is commonly used :-\n",
    "  1. E-commerce\n",
    "  2. Financial and Stock Market Analysis\n",
    "  3. Social Media and Sentiment Analysis:"
   ]
  },
  {
   "cell_type": "markdown",
   "id": "d4e62c9c",
   "metadata": {},
   "source": [
    "## Q2. What are the different methods used for Web Scraping?\n",
    "\n",
    "#### Different methods commonly used for web scraping:\n",
    "1. Manual Scraping:This involves manually copying and pasting data from a website into a local file or spreadsheet.\n",
    "\n",
    "2. Custom Code with HTTP Requests:Writing custom code in a programming language like Python, JavaScript, or Ruby to send HTTP requests to a website's server and parse the HTML responses.\n",
    "3. APIs (Application Programming Interfaces):Some websites offer APIs that allow developers to access structured data in a machine-readable format (e.g., JSON or XML) instead of scraping HTML.\n"
   ]
  },
  {
   "cell_type": "markdown",
   "id": "a1020804",
   "metadata": {},
   "source": [
    "## Q3. What is Beautiful Soup? Why is it used?\n",
    "\n",
    "--Beautiful Soup is a Python library commonly used for web scraping and parsing HTML and XML documents. It provides a convenient way to extract data from web pages, navigate the document's tree structure, and manipulate HTML or XML elements. \n",
    "\n",
    "#### uses of BeautiufulSoup:-\n",
    "1. HTML Parsing: Beautiful Soup parses HTML or XML documents, converting them into a structured tree-like object that can be easily navigated and searched.\n",
    "2. Data Extraction: It provides methods and functions to locate and extract specific elements or data from web pages.\n",
    "3. Data Cleaning: When working with scraped data, web pages often contain messy or inconsistent HTML. Beautiful Soup can help clean and normalize the data, making it more usable."
   ]
  },
  {
   "cell_type": "markdown",
   "id": "f026983d",
   "metadata": {},
   "source": [
    "## Q4. Why is flask used in this Web Scraping project?\n",
    "\n",
    "-- to create a user interface to interact with web scraping tool, we can use Flask to build a web application.\n",
    "\n",
    "-- After scraping data,  to display the results to users. \n",
    "\n",
    "-- Flask can be used to integrate your web scraping tool with other web services or APIs"
   ]
  },
  {
   "cell_type": "markdown",
   "id": "26a32582",
   "metadata": {},
   "source": [
    "## Q5. Write the names of AWS services used in this project. Also, explain the use of each service.\n",
    "\n",
    "1. Elastic Beanstalk:-\n",
    "    Elastic Beanstalk provides a straightforward and quick way to deploy applications. Developers can easily upload their application code, and Elastic Beanstalk handles the deployment and configuration of the necessary resources.\n",
    "    \n",
    "2. CodePipeline:-\n",
    "   AWS CodePipeline is a fully managed continuous integration and continuous delivery (CI/CD) service provided by Amazon Web Services (AWS)."
   ]
  },
  {
   "cell_type": "code",
   "execution_count": null,
   "id": "20bdf349",
   "metadata": {},
   "outputs": [],
   "source": []
  }
 ],
 "metadata": {
  "kernelspec": {
   "display_name": "Python 3 (ipykernel)",
   "language": "python",
   "name": "python3"
  },
  "language_info": {
   "codemirror_mode": {
    "name": "ipython",
    "version": 3
   },
   "file_extension": ".py",
   "mimetype": "text/x-python",
   "name": "python",
   "nbconvert_exporter": "python",
   "pygments_lexer": "ipython3",
   "version": "3.9.13"
  }
 },
 "nbformat": 4,
 "nbformat_minor": 5
}
