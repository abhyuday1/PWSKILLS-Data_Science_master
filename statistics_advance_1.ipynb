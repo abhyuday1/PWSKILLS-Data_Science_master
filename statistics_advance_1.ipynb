{
 "cells": [
  {
   "cell_type": "markdown",
   "id": "1b8386ec",
   "metadata": {},
   "source": [
    "## Q1. What is the Probability density function?\n",
    "\n",
    "--\n",
    "A Probability Density Function (PDF) is a statistical concept used in probability theory and statistics to describe the probability distribution of a continuous random variable.\n",
    "\n",
    "--The PDF is often used to describe and model the uncertainty associated with continuous random variables, such as the height of individuals in a population, the time it takes for a computer to perform a task, or the temperature at a given location. "
   ]
  },
  {
   "cell_type": "markdown",
   "id": "f4e1247b",
   "metadata": {},
   "source": [
    "## Q2. What are the types of Probability distribution?\n",
    "\n",
    "1. Uniform Distribution\n",
    "2. Normal or Gaussian Distribution\n",
    "3. Binomial DIstribution\n",
    "4. Possion Distribution\n"
   ]
  },
  {
   "cell_type": "markdown",
   "id": "a89539a7",
   "metadata": {},
   "source": [
    "## Q3. Write a Python function to calculate the probability density function of a normal distribution with given mean and standard deviation at a given point.\n",
    "\n",
    "Formula for the PDF function is=\n",
    "\n",
    " f(x)=(1/sqrt(2*pie*std))(e^-(x-mean)^2)/2(std)^2"
   ]
  },
  {
   "cell_type": "code",
   "execution_count": 2,
   "id": "1fd9fd4b",
   "metadata": {},
   "outputs": [],
   "source": [
    "import  math\n",
    "\n",
    "def normal_pdf(x, mean, std):\n",
    "    pdf=(1/math.sqrt(2*math.pi* std))*math.exp(-((x-mean)**2)/2*(std**2))\n",
    "    return pdf\n",
    "    \n",
    "\n",
    "## here x is the given point\n",
    "## mean is the Mean of the normal distribution\n",
    "## std is the standard deviation of the distribution\n",
    "\n"
   ]
  },
  {
   "cell_type": "markdown",
   "id": "b66f461d",
   "metadata": {},
   "source": [
    "## Q4. What are the properties of Binomial distribution? Give two examples of events where binomial distribution can be applied.\n",
    "\n",
    "--Properties of the Binomial distribution\n",
    "--\n",
    "1. Two possible outcomes :- Each trial result is  one of the two possible outcome, often denoted as success and failure.\n",
    "2. Fixed Number of Trials:- NUmber of the trails (n) is fixed and remains constant throught the experiment.\n",
    "3. independent trails:-Each trail is independent of each other, i.e outcome of one trail doesnot affect the other outcome.\n",
    "4. Discrete distribution:- it represents the count of successes in a fixed number of trails, so its a discrete random variable.\n",
    "\n",
    "--Examples\n",
    "--\n",
    "1. Coin Tossing\n",
    "2. Medical drug trails.\n"
   ]
  },
  {
   "cell_type": "markdown",
   "id": "c99a8989",
   "metadata": {},
   "source": [
    "## Q5. Generate a random sample of size 1000 from a binomial distribution with probability of success 0.4 and plot a histogram of the results using matplotlib."
   ]
  },
  {
   "cell_type": "code",
   "execution_count": 3,
   "id": "679e53a4",
   "metadata": {},
   "outputs": [],
   "source": [
    "import numpy as np\n",
    "import matplotlib.pyplot as plt\n",
    "\n",
    "\n",
    "np.random.seed(43)\n",
    "n=1000 ### sample size\n",
    "p=0.4  ## probability of success\n",
    "\n",
    "random_sample=np.random.binomial(1,p,n)\n"
   ]
  },
  {
   "cell_type": "code",
   "execution_count": 4,
   "id": "e6255968",
   "metadata": {},
   "outputs": [
    {
     "data": {
      "text/plain": [
       "array([0, 1, 0, 0, 0, 1, 1, 0, 0, 1, 0, 1, 0, 0, 1, 0, 0, 0, 0, 1, 1, 1,\n",
       "       0, 1, 0, 1, 0, 1, 0, 0, 0, 0, 0, 1, 1, 1, 1, 0, 0, 0, 1, 0, 1, 1,\n",
       "       1, 0, 1, 0, 0, 1, 1, 0, 0, 0, 1, 0, 1, 1, 1, 0, 0, 0, 1, 0, 1, 0,\n",
       "       0, 0, 0, 0, 0, 0, 1, 1, 1, 0, 1, 0, 1, 0, 0, 1, 1, 0, 0, 0, 0, 0,\n",
       "       0, 1, 1, 1, 1, 1, 0, 0, 1, 0, 0, 1, 0, 0, 0, 0, 1, 1, 1, 1, 0, 1,\n",
       "       0, 1, 1, 1, 0, 0, 0, 1, 0, 0, 1, 0, 1, 0, 0, 0, 1, 1, 0, 0, 0, 1,\n",
       "       1, 0, 0, 1, 0, 0, 1, 0, 0, 0, 0, 0, 0, 0, 0, 0, 0, 0, 1, 0, 1, 0,\n",
       "       0, 1, 1, 1, 0, 0, 1, 0, 0, 1, 0, 0, 1, 0, 1, 1, 0, 0, 1, 1, 0, 0,\n",
       "       0, 1, 1, 1, 1, 1, 0, 0, 0, 1, 0, 0, 1, 0, 1, 0, 1, 0, 0, 1, 1, 0,\n",
       "       0, 1, 1, 1, 1, 0, 0, 0, 0, 1, 1, 1, 1, 0, 0, 0, 0, 0, 0, 1, 0, 0,\n",
       "       0, 1, 0, 1, 0, 0, 0, 0, 1, 0, 0, 0, 0, 1, 0, 1, 1, 0, 0, 1, 0, 0,\n",
       "       0, 0, 0, 0, 1, 0, 0, 0, 1, 1, 0, 0, 0, 1, 1, 1, 1, 0, 0, 1, 0, 0,\n",
       "       0, 0, 0, 1, 0, 1, 0, 0, 0, 0, 0, 0, 1, 0, 1, 0, 1, 1, 0, 1, 1, 1,\n",
       "       0, 1, 0, 0, 0, 0, 1, 0, 0, 1, 0, 0, 1, 0, 0, 0, 0, 0, 0, 1, 1, 0,\n",
       "       1, 0, 1, 1, 0, 0, 1, 1, 1, 1, 0, 0, 0, 1, 1, 0, 0, 0, 1, 1, 0, 1,\n",
       "       1, 0, 0, 1, 1, 1, 1, 1, 0, 0, 1, 0, 0, 0, 1, 0, 0, 0, 1, 0, 0, 0,\n",
       "       1, 1, 0, 1, 0, 0, 0, 0, 1, 0, 1, 1, 1, 0, 0, 0, 0, 0, 0, 1, 1, 0,\n",
       "       0, 1, 0, 0, 0, 1, 0, 0, 0, 0, 0, 0, 0, 1, 1, 1, 0, 0, 0, 1, 1, 1,\n",
       "       0, 0, 0, 1, 0, 1, 1, 0, 1, 1, 1, 0, 0, 0, 0, 0, 1, 0, 0, 1, 0, 1,\n",
       "       0, 1, 0, 0, 0, 0, 1, 1, 1, 0, 1, 1, 0, 0, 1, 1, 0, 1, 1, 0, 0, 0,\n",
       "       0, 0, 0, 0, 0, 0, 0, 1, 0, 1, 0, 0, 1, 1, 1, 1, 0, 0, 0, 0, 1, 1,\n",
       "       0, 1, 0, 0, 0, 0, 1, 1, 0, 0, 0, 1, 0, 1, 0, 0, 0, 0, 1, 1, 1, 1,\n",
       "       1, 0, 1, 1, 1, 0, 0, 0, 0, 0, 1, 0, 0, 0, 0, 0, 1, 0, 1, 0, 0, 0,\n",
       "       0, 0, 0, 0, 1, 0, 1, 1, 0, 0, 0, 0, 1, 0, 0, 1, 0, 0, 0, 1, 0, 1,\n",
       "       1, 0, 0, 1, 0, 0, 1, 0, 0, 0, 0, 0, 0, 0, 0, 0, 1, 0, 0, 0, 1, 1,\n",
       "       1, 0, 0, 0, 1, 1, 0, 1, 1, 1, 0, 0, 0, 0, 1, 1, 1, 0, 1, 0, 0, 0,\n",
       "       0, 1, 1, 1, 0, 0, 1, 0, 1, 1, 1, 0, 1, 0, 1, 1, 1, 1, 0, 1, 0, 0,\n",
       "       1, 1, 0, 0, 0, 1, 0, 0, 1, 0, 1, 0, 0, 0, 0, 1, 0, 0, 0, 1, 0, 1,\n",
       "       1, 1, 0, 1, 0, 0, 1, 0, 0, 0, 0, 0, 0, 0, 0, 0, 1, 0, 1, 0, 0, 0,\n",
       "       1, 1, 1, 0, 1, 0, 1, 1, 1, 0, 0, 1, 0, 1, 0, 0, 0, 0, 1, 0, 1, 0,\n",
       "       0, 0, 1, 0, 0, 1, 0, 0, 1, 0, 1, 0, 1, 0, 1, 1, 1, 0, 0, 1, 0, 1,\n",
       "       1, 1, 0, 1, 0, 0, 1, 1, 1, 1, 1, 0, 0, 1, 1, 1, 0, 0, 1, 0, 1, 1,\n",
       "       1, 0, 0, 1, 0, 1, 1, 1, 0, 0, 0, 0, 0, 0, 0, 0, 0, 0, 0, 0, 0, 0,\n",
       "       0, 0, 0, 0, 0, 1, 1, 0, 0, 1, 1, 0, 0, 0, 1, 1, 0, 1, 1, 1, 0, 1,\n",
       "       1, 0, 0, 1, 1, 0, 0, 1, 0, 0, 1, 1, 1, 0, 1, 1, 1, 1, 1, 1, 1, 0,\n",
       "       0, 0, 0, 0, 0, 1, 0, 1, 0, 0, 0, 0, 0, 1, 0, 0, 1, 0, 1, 0, 1, 0,\n",
       "       0, 0, 0, 0, 1, 0, 0, 1, 0, 1, 1, 1, 0, 1, 1, 1, 1, 1, 1, 0, 0, 0,\n",
       "       0, 0, 0, 1, 0, 1, 1, 0, 0, 0, 1, 1, 1, 0, 0, 1, 1, 0, 0, 0, 1, 1,\n",
       "       0, 0, 0, 0, 0, 0, 0, 1, 1, 1, 1, 0, 0, 0, 0, 1, 0, 1, 1, 1, 0, 0,\n",
       "       0, 1, 0, 0, 0, 0, 1, 1, 1, 0, 1, 1, 1, 1, 0, 0, 1, 0, 1, 0, 0, 1,\n",
       "       0, 0, 0, 1, 0, 0, 0, 1, 1, 0, 0, 0, 0, 1, 1, 1, 0, 1, 1, 1, 0, 1,\n",
       "       1, 0, 0, 0, 1, 0, 1, 1, 0, 0, 1, 1, 0, 1, 0, 1, 0, 1, 0, 0, 0, 1,\n",
       "       0, 0, 0, 0, 1, 0, 0, 1, 1, 0, 1, 0, 0, 0, 0, 0, 0, 0, 1, 1, 1, 1,\n",
       "       0, 0, 1, 1, 0, 1, 0, 0, 0, 0, 0, 0, 1, 0, 1, 0, 1, 1, 0, 0, 1, 1,\n",
       "       0, 1, 0, 0, 0, 0, 1, 1, 1, 0, 0, 0, 0, 0, 0, 0, 1, 0, 0, 0, 1, 0,\n",
       "       1, 1, 1, 1, 1, 1, 0, 1, 0, 0])"
      ]
     },
     "execution_count": 4,
     "metadata": {},
     "output_type": "execute_result"
    }
   ],
   "source": [
    "random_sample\n"
   ]
  },
  {
   "cell_type": "code",
   "execution_count": 14,
   "id": "22a80beb",
   "metadata": {},
   "outputs": [
    {
     "data": {
      "image/png": "[encoded data removed]",
      "text/plain": [
       "<Figure size 640x480 with 1 Axes>"
      ]
     },
     "metadata": {},
     "output_type": "display_data"
    }
   ],
   "source": [
    "plt.hist(random_sample)\n",
    "plt.xlabel(\"Success(1)/Failure(0)\")\n",
    "plt.ylabel('Frequency')\n",
    "plt.title('Binomial distribution sample')\n",
    "plt.show()"
   ]
  },
  {
   "cell_type": "markdown",
   "id": "e45879d0",
   "metadata": {},
   "source": [
    "## Q6. Write a Python function to calculate the cumulative distribution function of a Poisson distribution with given mean at a given point."
   ]
  },
  {
   "cell_type": "code",
   "execution_count": 16,
   "id": "f5821de3",
   "metadata": {},
   "outputs": [],
   "source": [
    "from scipy.stats import poisson\n",
    " \n",
    "    \n",
    "def poisson_cdf(x, mean):\n",
    "    cdf=poisson.cdf(x, mean)\n",
    "    return cdf\n",
    "\n",
    "## x is the given point\n",
    "## mean is the given Mean of the distribution"
   ]
  },
  {
   "cell_type": "markdown",
   "id": "00fa058d",
   "metadata": {},
   "source": [
    "## Q7. How Binomial distribution different from Poisson distribution?\n",
    "\n",
    "1. Numer of Trails:-\n",
    "`Binomial distribution is used to model the numbe rof successes of failures in fixed number of independent bernoulli trails.\n",
    "whereas Poisson distribution models the number of events occuring in a fixed interval of time or space.\n",
    "\n",
    "2. Number of Outcome:\n",
    "` In Binomial distribution  each trial has only two possible outcome.\n",
    "where as in poisson distribution number of events can vary from 0 to infinity.\n",
    "\n",
    "3. Parameters:\n",
    "Binomial distribution characterized by two parameter n and p , i'e number of trail and probability of success in a single trail.\n",
    "whereas poisson distribution is characterized by only one paramter LAMBDA (average rate of occurance of event in a  given interval"
   ]
  },
  {
   "cell_type": "markdown",
   "id": "86b6c555",
   "metadata": {},
   "source": [
    "## Q8. Generate a random sample of size 1000 from a Poisson distribution with mean 5 and calculate the sample mean and variance."
   ]
  },
  {
   "cell_type": "code",
   "execution_count": 17,
   "id": "6cbda257",
   "metadata": {},
   "outputs": [],
   "source": [
    "mean =5\n",
    "sample_size=1000\n",
    "\n",
    "random_sample=np.random.poisson(mean, sample_size)"
   ]
  },
  {
   "cell_type": "code",
   "execution_count": 20,
   "id": "1af8c484",
   "metadata": {},
   "outputs": [
    {
     "name": "stdout",
     "output_type": "stream",
     "text": [
      "sample_ mean is:  5.143\n",
      "sample variance is : 5.7845509999999996\n"
     ]
    }
   ],
   "source": [
    "sample_mean=np.mean(random_sample)\n",
    "sample_variance=np.var(random_sample)\n",
    "print(\"sample_ mean is: \" ,sample_mean)\n",
    "print(\"sample variance is :\", sample_variance)"
   ]
  },
  {
   "cell_type": "markdown",
   "id": "d7f3438c",
   "metadata": {},
   "source": [
    "## Q9. How mean and variance are related in Binomial distribution and Poisson distribution?\n",
    "\n",
    "-- Binomial Distribution\n",
    "--\n",
    "-- Mean(meu)= np\n",
    "\n",
    "n=number of trails\n",
    "p=probability of success in single trails\n",
    "\n",
    "-- Variance=np(1-p)\n",
    "\n",
    "n=number of trails\n",
    "p=probability of success in single trails\n",
    "\n",
    "--\n",
    "Poisson Distribution\n",
    "--\n",
    "\n",
    "-- Mean=Lambda\n",
    "\n",
    "lambda=AVerage rate of Event occurance\n",
    "\n",
    "-- Variance =Lambda\n",
    "\n"
   ]
  },
  {
   "cell_type": "markdown",
   "id": "be34d05c",
   "metadata": {},
   "source": [
    "## Q10. In normal distribution with respect to mean position, where does the least frequent data appear?\n",
    "\n",
    "-- In a normal distribution, the least frequent data points (i.e., the data points that occur the least often) are located in the tails of the distribution, farthest away from the mean."
   ]
  },
  {
   "cell_type": "code",
   "execution_count": null,
   "id": "7142126b",
   "metadata": {},
   "outputs": [],
   "source": []
  }
 ],
 "metadata": {
  "kernelspec": {
   "display_name": "Python 3 (ipykernel)",
   "language": "python",
   "name": "python3"
  },
  "language_info": {
   "codemirror_mode": {
    "name": "ipython",
    "version": 3
   },
   "file_extension": ".py",
   "mimetype": "text/x-python",
   "name": "python",
   "nbconvert_exporter": "python",
   "pygments_lexer": "ipython3",
   "version": "3.9.13"
  }
 },
 "nbformat": 4,
 "nbformat_minor": 5
}
