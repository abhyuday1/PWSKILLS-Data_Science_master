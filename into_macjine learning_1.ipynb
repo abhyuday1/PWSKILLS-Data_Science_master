{
 "cells": [
  {
   "cell_type": "markdown",
   "id": "53155e60",
   "metadata": {},
   "source": [
    "## Q1   Explain the following with an example\n",
    "A) Artificial Intelligence\n",
    "B) Machine Learning\n",
    "C) DeeLerning\n",
    "\n",
    "\n",
    "A) Artificial Intelligence (AI):\n",
    "\n",
    "Artificial Intelligence refers to the simulation of human intelligence in machines that are programmed to think and learn like humans. It encompasses a wide range of techniques and technologies that enable computers and machines to perform tasks that typically require human intelligence, such as understanding natural language, recognizing patterns, solving complex problems, and making decisions.\n",
    "\n",
    " --Chatbot is an example of artificial intelligence.\n",
    " \n",
    " B) Machine Learning (ML):\n",
    "\n",
    "Machine Learning is a subset of artificial intelligence that focuses on the development of algorithms and statistical models that allow computers to improve their performance on a specific task through learning from data without being explicitly programmed.\n",
    "\n",
    "--- Email spam filters are a classic example of machine learning. \n",
    "\n",
    "C) Deep Learning (DL): \n",
    "\n",
    "Deep Learning is a specialized subfield of machine learning that is inspired by the structure and function of the human brain. It involves the use of artificial neural networks, which are composed of interconnected layers of nodes (neurons). Deep learning algorithms are particularly well-suited for tasks involving large amounts of unstructured data, such as image and speech recognition.\n",
    "\n",
    "-- Image recognition systems that can identify objects in photographs or videos."
   ]
  },
  {
   "cell_type": "markdown",
   "id": "2b669a5f",
   "metadata": {},
   "source": [
    "## 2.  what is supervised learning? list some  example of supervised learning\n",
    "\n",
    "\n",
    "--Supervised learning\n",
    "--\n",
    "Supervised learning is a type of machine learning where an algorithm learns from a labeled dataset, which means that each input in the dataset is associated with a corresponding target or output. \n",
    "\n",
    "some of the examples of the supervised learning are:\n",
    "Image classification, Email spam Detection etc.\n",
    "\n"
   ]
  },
  {
   "cell_type": "markdown",
   "id": "3a742e2a",
   "metadata": {},
   "source": [
    "## 3. what is unsupervised learning. list some examples of the unsupervised learning\n",
    "\n",
    "--Unsupervised learning\n",
    "--\n",
    "Unsupervised learning is a type of machine learning where the algorithm learns patterns and structures from a dataset without explicit supervision or labeled outcomes. In other words, it does not have access to a target variable or correct answers during training. Instead, it identifies inherent structures, clusters, or relationships within the data on its own. \n",
    "\n",
    "some of the examples are:-\n",
    "Clustring, Anomaly detection,dimensionality reduction etc."
   ]
  },
  {
   "cell_type": "markdown",
   "id": "f1fe2c05",
   "metadata": {},
   "source": [
    "## 4. what is the difference between AI, ML, DL and DS\n",
    "\n",
    "1. Artificial Intelligence (AI):-\n",
    "\n",
    "--I is the  field that focuses on creating systems or machines capable of performing tasks that typically require human intelligence, such as problem-solving, reasoning, learning, and decision-making.\n",
    "\n",
    "--AI can be thought of as the broader concept, with machine learning, deep learning, and data science being subsets of AI.\n",
    "\n",
    "2.Machine Learning (ML):\n",
    "--ML is a subset of AI that involves the use of algorithms and statistical models to enable computers to learn from data and make predictions or decisions without being explicitly programmed.\n",
    "\n",
    "--ML is a key component of AI and is often used for tasks like image classification, natural language processing, and recommendation systems.\n",
    "\n",
    "3. Deep Learning (DL):\n",
    "\n",
    "--Deep learning is a specialized subfield of machine learning that is inspired by the structure and function of the human brain. It involves the use of artificial neural networks with multiple layers.\n",
    "\n",
    "--It is a subset of machine learning, and while it has shown remarkable success in various applications, it often requires large datasets and significant computational resources.\n",
    "\n",
    "4. Data Science (DS):\n",
    "\n",
    "--Data science is a multidisciplinary field that focuses on extracting insights and knowledge from data. It encompasses various techniques, including data analysis, statistics, machine learning, data visualization, and domain expertise.\n",
    "\n",
    "--DS is a broader field than AI, ML, or DL. It includes aspects of AI and ML but also covers a wide range of data-related activities beyond predictive modeling, such as data exploration, data engineering, and data storytelling."
   ]
  },
  {
   "cell_type": "markdown",
   "id": "72b79507",
   "metadata": {},
   "source": [
    "## 5. what are the main diffrences between supervised , unsupervised and semi-supervised learning\n",
    "\n",
    "\n",
    "1. Supervised Learning:\n",
    "\n",
    "Labeled Data: In supervised learning, the algorithm is trained on a labeled dataset, where each input example is associated with a corresponding output or target.\n",
    "\n",
    "2. Unsupervised Learning:\n",
    "\n",
    "Unlabeled Data: Unsupervised learning algorithms are trained on datasets without labeled outcomes or targets. The algorithm's objective is to find patterns, structures, or relationships within the data on its own.\n",
    "\n",
    "\n",
    "3. Semi-Supervised Learning:\n",
    "\n",
    "Combination of Labeled and Unlabeled Data: Semi-supervised learning combines elements of both supervised and unsupervised learning. It uses a dataset that contains both labeled and unlabeled examples."
   ]
  },
  {
   "cell_type": "markdown",
   "id": "fb215763",
   "metadata": {},
   "source": [
    "## 6. what is train, test and validation split. Explain the importance each term\n",
    "\n",
    "1. Training Data:\n",
    "The training dataset is used to train the machine learning model. It contains a large portion of the available labeled data, including input features and their corresponding target values.\n",
    "\n",
    "--It provides the model with the information needed to learn patterns and relationships in the data. Without a sufficient and representative training dataset, the model cannot generalize well to new data\n",
    "\n",
    "2. Test Data:-\n",
    "-- The test dataset is kept separate from the training data and is not used during model training. It serves as an independent dataset for evaluating the model's performance.\n",
    "\n",
    "--The test data is crucial for assessing the model's performance on unseen data. It helps to understand how well the model will perform in real-world applications.\n",
    "\n",
    "3. Validation data:-\n",
    "-- The validation dataset is used to fine-tune the model during the training process and make decisions about model hyperparameters"
   ]
  },
  {
   "cell_type": "markdown",
   "id": "5ed57bf5",
   "metadata": {},
   "source": [
    "## 7. How can unsupervised learning be used in anomaly detection?\n",
    "\n",
    "--Unsupervised learning can be a powerful technique for anomaly detection because it doesn't rely on labeled data that explicitly identifies anomalies. Instead, it identifies patterns, structures, or clusters in the data and considers data points that deviate significantly from these patterns as anomalies.\n",
    "\n",
    "--Unsupervised anomaly detection is particularly useful when we have limited or no labeled anomaly data. It can identify novel and previously unseen anomalies, making it valuable in various applications, including fraud detection, network security, equipment monitoring, and quality control"
   ]
  },
  {
   "cell_type": "markdown",
   "id": "f8a93125",
   "metadata": {},
   "source": [
    "## 8.  List down some commonly used supervised learning algorithm and unsupervised learning algoritm\n",
    "\n",
    "\n",
    "-- Supervised Learning algorithms:-\n",
    "--\n",
    "1. linear Regression\n",
    "2. Logistic Regression\n",
    "3. Decision Tree\n",
    "4. Random Forest\n",
    "5. Support vector machine\n",
    "6. K-nearest neighbour\n",
    "7. Naive Bayes\n",
    "8. Gradient Boosting Algorithms\n",
    "9. Neural Network\n",
    "\n",
    "--Unsupervised Learning Algorithms\n",
    "--\n",
    "1. K-means clustring\n",
    "2. principal component analysis\n",
    "3. Apriori Algorithms\n",
    "4. Anomaly Detection\n",
    "\n"
   ]
  }
 ],
 "metadata": {
  "kernelspec": {
   "display_name": "Python 3 (ipykernel)",
   "language": "python",
   "name": "python3"
  },
  "language_info": {
   "codemirror_mode": {
    "name": "ipython",
    "version": 3
   },
   "file_extension": ".py",
   "mimetype": "text/x-python",
   "name": "python",
   "nbconvert_exporter": "python",
   "pygments_lexer": "ipython3",
   "version": "3.9.13"
  }
 },
 "nbformat": 4,
 "nbformat_minor": 5
}
