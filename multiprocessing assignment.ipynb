{
 "cells": [
  {
   "cell_type": "markdown",
   "id": "132bfc03-eb89-4be7-80eb-c3f126497fa5",
   "metadata": {},
   "source": [
    "## Q1. What is multiprocessing in python? Why is it useful?\n",
    "\n",
    "--Multiprocessing is a technique that allows to create and manage multiple process concurenltly.Each process runs independently and can execute code in parallel with other processes.\n",
    "\n",
    "#### Advantages or uses:-\n",
    "1. prallelism :- Multiprocessing allows to execute subtasks concurrenlty, reducing overall execution time.\n",
    "\n",
    "2. Load Balancing:- Multiprocessing can be used to distribute load across multiple processes, ensuring CPU core is utilized efficiently.\n"
   ]
  },
  {
   "cell_type": "markdown",
   "id": "8d1b8156-ab9b-4dc3-b0e8-b59ae3d9548e",
   "metadata": {},
   "source": [
    "## Q2. What are the differences between multiprocessing and multithreading?\n",
    "\n",
    "1. in Multiprocessing processes has its own memory space, which means they do not share variaables or memory. whereas in  multithreading all threads share the same memory space which means they can easily share data.\n",
    "\n",
    "2. in multiprocessing processes are isolated from one another means if one process crashes, it does not affect other processes. whereas in multithreading threads shares memory if one thread experiences an issue , it can potentially affects other threads.\n",
    "\n",
    "3. multiprocessing suited for CPU bounded tasks, prallel processing, whereas multithreading is more approriate for I/O bounded tasks, involving frequent context switching."
   ]
  },
  {
   "cell_type": "markdown",
   "id": "5be7fb5d-bd45-4491-957e-5afd912bbd2d",
   "metadata": {},
   "source": [
    "## Q3. Write a python code to create a process using the multiprocessing module."
   ]
  },
  {
   "cell_type": "code",
   "execution_count": 5,
   "id": "4d5a7122-8393-409a-9208-a03164282962",
   "metadata": {},
   "outputs": [
    {
     "name": "stdout",
     "output_type": "stream",
     "text": [
      "process complete\n",
      " process is working\n"
     ]
    }
   ],
   "source": [
    "import multiprocessing\n",
    "\n",
    "def test():\n",
    "    print(\" process is working\")\n",
    "\n",
    "\n",
    "if __name__ == '__main__':\n",
    "    m=multiprocessing.Process(target=test)\n",
    "    print(\"process complete\")\n",
    "    m.start()\n",
    "    m.join()\n",
    "    "
   ]
  },
  {
   "cell_type": "markdown",
   "id": "732b42cf-3bca-4a39-b525-04e6766d2b19",
   "metadata": {},
   "source": [
    "## Q4. What is a multiprocessing pool in python? Why is it used?\n",
    "\n",
    "--A multiprocessing pool in Python, often referred to as a \"pool,\" is a high-level construct provided by the multiprocessing module for managing a group of worker processes. It is primarily used to parallelize the execution of a function across multiple input values, distributing the workload efficiently among the available CPU cores. The primary purpose of a multiprocessing pool is to make it easier to perform parallel processing and take advantage of multi-core CPUs.\n",
    "\n",
    "#### Benefits of using  multiprocessing pool:-\n",
    "1. Parallel Execution: A multiprocessing pool allows to execute a function in parallel for multiple input values. \n",
    "2. Load Distribution: The pool automatically distributes the workload evenly among the available processes or CPU cores, helping to make the best use of system resources"
   ]
  },
  {
   "cell_type": "markdown",
   "id": "67968a2d-5162-4787-81f9-ce1e634955ec",
   "metadata": {},
   "source": [
    "## Q5. How can we create a pool of worker processes in python using the multiprocessing module?\n",
    "\n",
    "--multiprocessing.Pool class can be used to create and manage the pool of worker processes\n",
    "\n",
    "for example:-\n"
   ]
  },
  {
   "cell_type": "code",
   "execution_count": 6,
   "id": "f3d07ab3-8127-4e2f-a85e-fcd7592b4017",
   "metadata": {},
   "outputs": [
    {
     "name": "stdout",
     "output_type": "stream",
     "text": [
      "[4, 9, 16, 25]\n"
     ]
    }
   ],
   "source": [
    "def square(n):\n",
    "    return n*n\n",
    "\n",
    "if __name__=='__main__':\n",
    "    with multiprocessing.Pool(processes=5) as pool:\n",
    "        out=pool.map(square,[2,3,4,5])\n",
    "        print(out)"
   ]
  },
  {
   "cell_type": "markdown",
   "id": "c9b61f14-d3dc-413b-b822-8147feff084b",
   "metadata": {},
   "source": [
    "## Q6. Write a python program to create 4 processes, each process should print a different number using the multiprocessing module in python."
   ]
  },
  {
   "cell_type": "code",
   "execution_count": 7,
   "id": "039ade2e-ec41-45b9-9670-1fa1191d4765",
   "metadata": {},
   "outputs": [
    {
     "name": "stdout",
     "output_type": "stream",
     "text": [
      "Process 1: Printing number 1\n",
      "Process 2: Printing number 2\n",
      "Process 3: Printing number 3\n",
      "Process 4: Printing number 4\n",
      "All processes have finished.\n"
     ]
    }
   ],
   "source": [
    "import multiprocessing\n",
    "\n",
    "def print_number(number):\n",
    "    print(f\"Process {number}: Printing number {number}\")\n",
    "\n",
    "if __name__ == \"__main__\":\n",
    "    \n",
    "    numbers = [1, 2, 3, 4]\n",
    "\n",
    "    processes = []\n",
    "    for num in numbers:\n",
    "        process = multiprocessing.Process(target=print_number, args=(num,))\n",
    "        processes.append(process)\n",
    "        process.start()\n",
    "\n",
    "    for process in processes:\n",
    "        process.join()\n",
    "\n",
    "    print(\"All processes have finished.\")\n"
   ]
  },
  {
   "cell_type": "code",
   "execution_count": null,
   "id": "9a084c6e-d44e-4924-babf-3884a00682e7",
   "metadata": {},
   "outputs": [],
   "source": []
  }
 ],
 "metadata": {
  "kernelspec": {
   "display_name": "Python 3 (ipykernel)",
   "language": "python",
   "name": "python3"
  },
  "language_info": {
   "codemirror_mode": {
    "name": "ipython",
    "version": 3
   },
   "file_extension": ".py",
   "mimetype": "text/x-python",
   "name": "python",
   "nbconvert_exporter": "python",
   "pygments_lexer": "ipython3",
   "version": "3.10.8"
  }
 },
 "nbformat": 4,
 "nbformat_minor": 5
}
