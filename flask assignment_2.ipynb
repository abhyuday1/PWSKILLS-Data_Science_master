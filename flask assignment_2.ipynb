{
 "cells": [
  {
   "cell_type": "markdown",
   "id": "3cbb9905",
   "metadata": {},
   "source": [
    "## Q1. Explain GET and POST methods.\n",
    "\n",
    "#### GET Method: \n",
    "   1. The GET method is primarily used to request data from a specified resource. It is used when we want to retrieve information from the server without causing any side effects on the server's data. \n",
    "   2. the data is typically included in the URL as query parameters. These parameters are visible in the URL\n",
    "   3. They are generally considered safe, as they don't modify server data\n",
    "     \n",
    "#### POST Method:\n",
    " 1.  The POST method is used to submit data to be processed to a specified resource. It is used when we want to send data to the server for processing, which can include updating server-side data.\n",
    " 2.  the data is sent in the request body, not in the URL. This allows for the transmission of larger amounts of data and more complex data structures.\n",
    " 3. They are used for actions that modify server data, such as submitting forms, creating new records, or making updates."
   ]
  },
  {
   "cell_type": "markdown",
   "id": "aad08480",
   "metadata": {},
   "source": [
    "## Q2. Why is request used in Flask?\n",
    "\n",
    "--In Flask, the request object is used to access and manipulate incoming HTTP requests made to web application. It is a critical component of handling user interactions with Flask application. The request object provides a convenient way to access various components of an HTTP request, including data sent by the client, headers, cookies, and more."
   ]
  },
  {
   "cell_type": "markdown",
   "id": "406b882d",
   "metadata": {},
   "source": [
    "## Q3. Why is redirect() used in Flask?\n",
    "\n",
    "--In Flask, the redirect() function is used to perform HTTP redirection, which means it instructs the client's web browser to navigate to a different URL.\n",
    "\n",
    "--Redirection can be used to implement security features such as authentication and authorization.\n",
    "\n",
    "--In Flask, routes are typically associated with specific view functions. it can be used to trigger a different view function or route based on certain conditions, "
   ]
  },
  {
   "cell_type": "markdown",
   "id": "b15bbfbc",
   "metadata": {},
   "source": [
    "## Q4. What are templates in Flask? Why is the render_template() function used?\n",
    "\n",
    "--Templates are used to separate the presentation layer from the application logic. This separation  makes it easier to manage and maintain web applications, as it allows developers to design the user interface independently from the backend logic.\n",
    "\n",
    "--Templates promote code reusability. we can create a template for a common page structure  and use it across multiple pages in your application.\n",
    "\n",
    "#### render_temlplate:-\n",
    "The render_template() function is used in Flask to render and return an HTML template as a response to an HTTP request. It takes the name of the template file as its primary argument and can also accept additional keyword arguments to pass data to the template. "
   ]
  },
  {
   "cell_type": "markdown",
   "id": "08887bd5",
   "metadata": {},
   "source": [
    "## Q5. Create a simple API. Use Postman to test it. Attach the screenshot of the output in the Jupyter Notebook."
   ]
  },
  {
   "cell_type": "code",
   "execution_count": null,
   "id": "26f9d9f6",
   "metadata": {},
   "outputs": [
    {
     "name": "stdout",
     "output_type": "stream",
     "text": [
      " * Serving Flask app \"__main__\" (lazy loading)\n",
      " * Environment: production\n",
      "\u001b[31m   WARNING: This is a development server. Do not use it in a production deployment.\u001b[0m\n",
      "\u001b[2m   Use a production WSGI server instead.\u001b[0m\n",
      " * Debug mode: off\n"
     ]
    },
    {
     "name": "stderr",
     "output_type": "stream",
     "text": [
      " * Running on all addresses.\n",
      "   WARNING: This is a development server. Do not use it in a production deployment.\n",
      " * Running on http://192.168.1.15:5000/ (Press CTRL+C to quit)\n",
      "192.168.1.15 - - [17/Sep/2023 00:36:48] \"GET / HTTP/1.1\" 200 -\n",
      "192.168.1.15 - - [17/Sep/2023 00:36:48] \"GET /favicon.ico HTTP/1.1\" 404 -\n",
      "192.168.1.15 - - [17/Sep/2023 00:36:55] \"GET /add HTTP/1.1\" 200 -\n",
      "192.168.1.15 - - [17/Sep/2023 00:37:12] \"GET /add HTTP/1.1\" 200 -\n"
     ]
    }
   ],
   "source": [
    "from flask import Flask,jsonify,request\n",
    "\n",
    "app=Flask(__name__)\n",
    "\n",
    "@app.route('/')\n",
    "def index():\n",
    "    return \" Welcome to the homepage\"\n",
    "@app.route('/add')\n",
    "def math_ops():\n",
    "    a=8\n",
    "    b=9\n",
    "    \n",
    "    result=\"Addition of \" + str(a)+ ' and '+ str(b) +\" is \" + str(a+b)\n",
    "    return jsonify(result)\n",
    "\n",
    "if __name__=='__main__':\n",
    "    app.run(host=\"0.0.0.0\")"
   ]
  },
  {
   "cell_type": "code",
   "execution_count": null,
   "id": "597be9ce",
   "metadata": {},
   "outputs": [],
   "source": []
  }
 ],
 "metadata": {
  "kernelspec": {
   "display_name": "Python 3 (ipykernel)",
   "language": "python",
   "name": "python3"
  },
  "language_info": {
   "codemirror_mode": {
    "name": "ipython",
    "version": 3
   },
   "file_extension": ".py",
   "mimetype": "text/x-python",
   "name": "python",
   "nbconvert_exporter": "python",
   "pygments_lexer": "ipython3",
   "version": "3.9.13"
  }
 },
 "nbformat": 4,
 "nbformat_minor": 5
}
