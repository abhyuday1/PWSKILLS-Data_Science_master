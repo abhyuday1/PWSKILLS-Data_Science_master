{
 "cells": [
  {
   "cell_type": "markdown",
   "id": "9b0411eb",
   "metadata": {},
   "source": [
    "# Q1. Create one variable containing following type of data:\n",
    "(i) string\n",
    "(ii) list\n",
    "(iii) float\n",
    "(iv) tuple"
   ]
  },
  {
   "cell_type": "code",
   "execution_count": 1,
   "id": "c8fe92b5",
   "metadata": {},
   "outputs": [],
   "source": [
    "Data_list=['skills',[1,2,3,4],7.0,(2,4,6)]"
   ]
  },
  {
   "cell_type": "code",
   "execution_count": 2,
   "id": "f41d51a2",
   "metadata": {},
   "outputs": [
    {
     "data": {
      "text/plain": [
       "['skills', [1, 2, 3, 4], 7.0, (2, 4, 6)]"
      ]
     },
     "execution_count": 2,
     "metadata": {},
     "output_type": "execute_result"
    }
   ],
   "source": [
    "Data_list"
   ]
  },
  {
   "cell_type": "code",
   "execution_count": 3,
   "id": "7cfb8b34",
   "metadata": {},
   "outputs": [
    {
     "data": {
      "text/plain": [
       "list"
      ]
     },
     "execution_count": 3,
     "metadata": {},
     "output_type": "execute_result"
    }
   ],
   "source": [
    "type(Data_list)"
   ]
  },
  {
   "cell_type": "markdown",
   "id": "a86ba929",
   "metadata": {},
   "source": [
    "# Q2. Given are some following variables containing data:\n",
    "(i) var1 = ‘ ‘\n",
    "(ii) var2 = ‘[ DS , ML , Python]’\n",
    "(iii) var3 = [ ‘DS’ , ’ML’ , ‘Python’ ]\n",
    "(iv) var4 = 1."
   ]
  },
  {
   "cell_type": "markdown",
   "id": "5b7faac8",
   "metadata": {},
   "source": [
    "\n",
    "\n",
    "ANSWER->\n",
    "(i) Var1='' -> Str\n",
    "(ii) var2 = ‘[ DS , ML , Python]’  -> Str\n",
    "(iii) var3 = [ ‘DS’ , ’ML’ , ‘Python’ ]  -> list\n",
    "(iv) var4 = 1   -> int"
   ]
  },
  {
   "cell_type": "markdown",
   "id": "f740c638",
   "metadata": {},
   "source": [
    "# Q3. Explain the use of the following operators using an example:\n",
    "(i) /\n",
    "(ii) %\n",
    "(iii) //\n",
    "(iv) **\n"
   ]
  },
  {
   "cell_type": "markdown",
   "id": "bfe97c89",
   "metadata": {},
   "source": [
    "\n",
    "Answer->\n",
    "(i) /     -> Divisio operator Divides the First Number with Second Number and returns Result in  Float.\n",
    "(ii) %    -> Modulus Operator Divides the First Number with secodn Number and Returns the Remainder.\n",
    "(iii) //  -> Division Operator Divides the FIrst Number with Second Number and returns the floor value of the result.\n",
    "(iv) **   ->This operator Returns the result as first number raised to the power  of second number."
   ]
  },
  {
   "cell_type": "markdown",
   "id": "0d235278",
   "metadata": {},
   "source": [
    "# Q4. Create a list of length 10 of your choice containing multiple types of data. Using for loop print the\n",
    "element and its data type."
   ]
  },
  {
   "cell_type": "code",
   "execution_count": 12,
   "id": "7a46b464",
   "metadata": {},
   "outputs": [
    {
     "name": "stdout",
     "output_type": "stream",
     "text": [
      "1--><class 'str'>\n",
      "1--><class 'int'>\n",
      "2.0--><class 'float'>\n",
      "skills--><class 'str'>\n",
      "s--><class 'str'>\n",
      "4--><class 'int'>\n",
      "8--><class 'int'>\n",
      "2.0--><class 'str'>\n",
      "9--><class 'int'>\n",
      "3--><class 'int'>\n"
     ]
    }
   ],
   "source": [
    "\n",
    "\n",
    "list_mul_type=['1',1,2.0,'skills','s',4,8,'2.0',9,3]\n",
    "\n",
    "for i in list_mul_type:\n",
    "    print(str(i) + '-->' + str(type(i)))"
   ]
  },
  {
   "cell_type": "markdown",
   "id": "b51591d0",
   "metadata": {},
   "source": [
    "# Q5. Using a while loop, verify if the number A is purely divisible by number B and if so then how many\n",
    "times it can be divisible."
   ]
  },
  {
   "cell_type": "code",
   "execution_count": 4,
   "id": "ee759a50",
   "metadata": {},
   "outputs": [
    {
     "name": "stdout",
     "output_type": "stream",
     "text": [
      "4\n"
     ]
    }
   ],
   "source": [
    "\n",
    "\n",
    "A=16\n",
    "B=4\n",
    "counter=0\n",
    "while(A>B):\n",
    "    if(A%B==0):\n",
    "        print(A//B)\n",
    "        A=A//B\n",
    "    \n",
    "        "
   ]
  },
  {
   "cell_type": "markdown",
   "id": "5208a58a",
   "metadata": {},
   "source": [
    "# Q6. Create a list containing 25 int type data. Using for loop and if-else condition print if the element is divisible by 3 or not."
   ]
  },
  {
   "cell_type": "code",
   "execution_count": 7,
   "id": "a40fa8bc",
   "metadata": {},
   "outputs": [
    {
     "name": "stdout",
     "output_type": "stream",
     "text": [
      "3--> Divisible by 3\n",
      "5-->Not Divisible by 3\n",
      "3--> Divisible by 3\n",
      "45--> Divisible by 3\n",
      "4-->Not Divisible by 3\n",
      "2-->Not Divisible by 3\n",
      "3--> Divisible by 3\n",
      "4-->Not Divisible by 3\n",
      "6--> Divisible by 3\n",
      "76-->Not Divisible by 3\n",
      "8-->Not Divisible by 3\n",
      "7-->Not Divisible by 3\n",
      "676-->Not Divisible by 3\n",
      "55-->Not Divisible by 3\n",
      "34-->Not Divisible by 3\n",
      "32-->Not Divisible by 3\n",
      "33--> Divisible by 3\n",
      "45--> Divisible by 3\n",
      "67-->Not Divisible by 3\n",
      "89-->Not Divisible by 3\n",
      "9--> Divisible by 3\n",
      "556-->Not Divisible by 3\n",
      "444--> Divisible by 3\n",
      "345--> Divisible by 3\n",
      "444--> Divisible by 3\n"
     ]
    }
   ],
   "source": [
    "\n",
    "\n",
    "list_int=[3,5,3,45,4,2,3,4,6,76,8,7,676,55,34,32,33,45,67,89,9,556,444,345,444]\n",
    "#len(list_int)\n",
    "for i in list_int:\n",
    "    if(i%3==0):\n",
    "        print(str(i)+\"-->\"+\" Divisible by 3\")\n",
    "    else:\n",
    "        print(str(i)+\"-->\"+\"Not Divisible by 3\")"
   ]
  },
  {
   "cell_type": "markdown",
   "id": "b9d2140f",
   "metadata": {},
   "source": [
    "# Q7. What do you understand about mutable and immutable data types? Give examples for both showing this property."
   ]
  },
  {
   "cell_type": "markdown",
   "id": "80cdac49",
   "metadata": {},
   "source": [
    "\n",
    "#Answer:-\n",
    "\n",
    "Mutable-->Data type which allows to change its value once its created.for Example, list Data Type\n",
    "\n"
   ]
  },
  {
   "cell_type": "code",
   "execution_count": 8,
   "id": "ae8bd960",
   "metadata": {},
   "outputs": [],
   "source": [
    "Var=[1,100,345,343]"
   ]
  },
  {
   "cell_type": "code",
   "execution_count": 9,
   "id": "1ee44250",
   "metadata": {},
   "outputs": [
    {
     "data": {
      "text/plain": [
       "[1, 100, 400, 343]"
      ]
     },
     "execution_count": 9,
     "metadata": {},
     "output_type": "execute_result"
    }
   ],
   "source": [
    "Var[2]=400\n",
    "Var"
   ]
  },
  {
   "cell_type": "markdown",
   "id": "bf0ad1eb",
   "metadata": {},
   "source": [
    "Here Value at index 2 in list Var is updated as 400."
   ]
  },
  {
   "cell_type": "markdown",
   "id": "db270b39",
   "metadata": {},
   "source": [
    "IMMUTABLE  -> Data tyep which does not alows to changes its Value once its Created. for Example, tuple, string.\n"
   ]
  },
  {
   "cell_type": "code",
   "execution_count": 10,
   "id": "dad7ab5c",
   "metadata": {},
   "outputs": [],
   "source": [
    "Var_str= \"skills\""
   ]
  },
  {
   "cell_type": "code",
   "execution_count": 11,
   "id": "1b760190",
   "metadata": {},
   "outputs": [
    {
     "ename": "TypeError",
     "evalue": "'str' object does not support item assignment",
     "output_type": "error",
     "traceback": [
      "\u001b[1;31m---------------------------------------------------------------------------\u001b[0m",
      "\u001b[1;31mTypeError\u001b[0m                                 Traceback (most recent call last)",
      "\u001b[1;32m~\\AppData\\Local\\Temp\\ipykernel_4980\\2840143785.py\u001b[0m in \u001b[0;36m<module>\u001b[1;34m\u001b[0m\n\u001b[1;32m----> 1\u001b[1;33m \u001b[0mVar_str\u001b[0m\u001b[1;33m[\u001b[0m\u001b[1;36m3\u001b[0m\u001b[1;33m]\u001b[0m\u001b[1;33m=\u001b[0m\u001b[1;34m'f'\u001b[0m\u001b[1;33m\u001b[0m\u001b[1;33m\u001b[0m\u001b[0m\n\u001b[0m",
      "\u001b[1;31mTypeError\u001b[0m: 'str' object does not support item assignment"
     ]
    }
   ],
   "source": [
    "Var_str[3]='f'"
   ]
  },
  {
   "cell_type": "markdown",
   "id": "1a20c0e3",
   "metadata": {},
   "source": [
    "the Variable Var_str is type of string Data type, when tried to Change value at index 3 it throws error."
   ]
  },
  {
   "cell_type": "code",
   "execution_count": null,
   "id": "7f067f27",
   "metadata": {},
   "outputs": [],
   "source": []
  }
 ],
 "metadata": {
  "kernelspec": {
   "display_name": "Python 3 (ipykernel)",
   "language": "python",
   "name": "python3"
  },
  "language_info": {
   "codemirror_mode": {
    "name": "ipython",
    "version": 3
   },
   "file_extension": ".py",
   "mimetype": "text/x-python",
   "name": "python",
   "nbconvert_exporter": "python",
   "pygments_lexer": "ipython3",
   "version": "3.9.13"
  }
 },
 "nbformat": 4,
 "nbformat_minor": 5
}
