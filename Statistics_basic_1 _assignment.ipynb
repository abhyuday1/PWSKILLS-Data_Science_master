{
 "cells": [
  {
   "cell_type": "markdown",
   "id": "fce7537e",
   "metadata": {},
   "source": [
    "## Q1. What is Statistics?\n",
    "\n",
    "--Statistics is a branch of mathematics that involves the collection, analysis, interpretation, presentation, and organization of data. Its primary purpose is to make sense of large amounts of data and to extract meaningful insights and information from that data."
   ]
  },
  {
   "cell_type": "markdown",
   "id": "dd93cbfb",
   "metadata": {},
   "source": [
    "## Q2. Define the different types of statistics and give an example of when each type might be used.\n",
    "\n",
    "1. Descriptive Statistics:\n",
    " Descriptive statistics are used to summarize and describe the main features of a dataset. They help in organizing and presenting data in a meaningful way. Common descriptive statistics include measures of central tendency and measures of dispersion.\n",
    " \n",
    " For example, calculating the average score of students in a class.\n",
    " \n",
    "2. Inferential Statistics:\n",
    " \n",
    "   Inferential statistics involve making inferences or predictions about a population based on a sample of data. These statistics are used to test hypotheses and  make predictions\n",
    "     \n",
    "   for example testing whether a new drug is more effective than an existing one in a clinical trial."
   ]
  },
  {
   "cell_type": "markdown",
   "id": "c3adf4d5",
   "metadata": {},
   "source": [
    "## Q3. What are the different types of data and how do they differ from each other? Provide an example of each type of data.\n",
    "\n",
    "1. Nminal Data:\n",
    "Nominal data, also known as categorical data, consists of categories or labels\n",
    "\n",
    " for example:-Gender: Male, Female, Other.\n",
    " \n",
    "2. Ordinal Data: \n",
    "rdinal data represents categories with a specific order or ranking.\n",
    "for example : Educational Levels: High School, Bachelor's, Master's, Ph.D.\n",
    "\n",
    "3. Discrete Data:\n",
    "Discrete data consists of distinct, separate values that cannot be subdivided further.\n",
    "\n",
    "for example:Number of Children in a Family.\n",
    "\n",
    "4. Continuous Data:\n",
    "Continuous data can take on an infinite number of values within a given range.\n",
    "for example:-Weight: Weight can be measured to a high level of precision."
   ]
  },
  {
   "cell_type": "markdown",
   "id": "4f94d0c0",
   "metadata": {},
   "source": [
    "## Q4. Categorise the following datasets with respect to quantitative and qualitative data types:\n",
    "\n",
    "(i) Grading in exam: A+, A, B+, B, C+, C, D, E\n",
    "\n",
    "(ii) Colour of mangoes: yellow, green, orange, red\n",
    "\n",
    "(iii) Height data of a class: [178.9, 179, 179.5, 176, 177.2, 178.3, 175.8,...]\n",
    "\n",
    "(iv) Number of mangoes exported by a farm: [500, 600, 478, 672, ...]"
   ]
  },
  {
   "cell_type": "markdown",
   "id": "780e8acd",
   "metadata": {},
   "source": [
    "1. Grading in exam :- it's type of qualitative data.\n",
    "\n",
    "2. Colour of mangoes:- Its type of qualitative data type.\n",
    "\n",
    "3. Hight data of a class:- its  a  quantative type of Data.\n",
    "\n",
    "4. Number of Mangoes:- its a quantative type of Data"
   ]
  },
  {
   "cell_type": "markdown",
   "id": "1dc46624",
   "metadata": {},
   "source": [
    "## Q5. Explain the concept of levels of measurement and give an example of a variable for each level.\n",
    "\n",
    "1. Nominal Level :\n",
    "At the nominal level, data are categorized into distinct, unordered categories or labels. Nominal variables have no order or ranking. \n",
    "for example:- EYE color\n",
    "\n",
    "2. Ordinal Level: Ordinal variables represent data with categories that have a specific order or ranking, but the intervals between the categories are not uniform.\n",
    "for example: Education level Data\n",
    "\n",
    "3. Interval Level: Interval variables have ordered categories with equal intervals between them, but they lack a true zero point.\n",
    "\n",
    "for example:- Temperature Data\n",
    "\n",
    "4. Ratio Level:- Ratio variables have ordered categories with equal intervals and a true zero point.\n",
    "for example: height or Weight Data\n"
   ]
  },
  {
   "cell_type": "markdown",
   "id": "be45f95a",
   "metadata": {},
   "source": [
    "## Q6. Why is it important to understand the level of measurement when analyzing data? Provide an example to illustrate your answer.\n",
    "\n",
    "Understanding the level of measurement when analyzing data is crucial because it determines the appropriate statistical methods and operations that can be applied to the data.\n",
    "\n",
    "for Example:- Ice cream Data\n",
    "\n",
    "If \"favorite ice cream flavors\" is considered a nominal-level variable, it means these categories have no order or ranking. we cannot perform mathematical operations like addition, subtraction, or find meaningful averages on these categories.\n",
    "\n",
    "-- If we were to calculate the \"average\" favorite ice cream flavor, it would be meaningless because we can't average categorical data.\n",
    "\n",
    "Correct Approach: In this case, we would typically use methods like frequency counts to determine which flavor is the most popular."
   ]
  },
  {
   "cell_type": "markdown",
   "id": "8c6ee596",
   "metadata": {},
   "source": [
    "## Q7. How nominal data type is different from ordinal data type.\n",
    "\n",
    "1. Nominal Data:\n",
    "\n",
    "--Nominal data, also known as nominal-level measurement, consists of categories or labels where the categories have no inherent   order or ranking.\n",
    "\n",
    "--Nominal data is qualitative in nature and can only be used for classification and grouping.\n",
    "\n",
    "for example:_\n",
    "Colours, Martial status etc.\n",
    "\n",
    "\n",
    "2. Ordinal Data:\n",
    "\n",
    "-- Ordinal data, on the other hand, also consists of categories, but these categories have a specific order or ranking.\n",
    "\n",
    "-- Ordinal data is qualitative but includes an ordered structure that can be used for ranking and making relative comparisons.\n",
    "\n",
    "for example:- Educational Level"
   ]
  },
  {
   "cell_type": "markdown",
   "id": "36ee0294",
   "metadata": {},
   "source": [
    "## Q8. Which type of plot can be used to display data in terms of range?\n",
    "\n",
    "1. Box plots\n",
    "2. Histogram"
   ]
  },
  {
   "cell_type": "markdown",
   "id": "cbd617ee",
   "metadata": {},
   "source": [
    "## Q9. Describe the difference between descriptive and inferential statistics. Give an example of each type of statistics and explain how they are used."
   ]
  },
  {
   "cell_type": "markdown",
   "id": "2a9bec7a",
   "metadata": {},
   "source": [
    " 1. Descriptive Statistics:Descriptive statistics are used to summarize and describe the main features of a dataset. Their primary goal is to provide a clear and concise overview of the data.\n",
    " \n",
    " Example: If we collect test scores from a group of students and calculate the average score (mean) and the range of scores, we are using descriptive statistics to summarize and describe the performance of that specific group of students.\n",
    " \n",
    " 2. Inferential statistics: Inferential statistics are used to make inferences, predictions, or generalizations about a larger population based on a sample of data. They involve drawing conclusions or testing hypotheses by using statistical techniques.\n",
    " \n",
    " Example: Suppose we want to determine if a new teaching method is more effective than the traditional method. we collected data from a sample of students, conduct a hypothesis test, and use inferential statistics to determine whether the observed differences in test scores are likely to represent a real effect in the larger population."
   ]
  },
  {
   "cell_type": "markdown",
   "id": "09638621",
   "metadata": {},
   "source": [
    "## Q10. What are some common measures of central tendency and variability used in statistics? Explain how each measure can be used to describe a dataset."
   ]
  },
  {
   "cell_type": "markdown",
   "id": "316d743e",
   "metadata": {},
   "source": [
    "1. Measures of Central Tendency:\n",
    "\n",
    "--Mean (Average):\n",
    "--\n",
    "\n",
    "The mean is the most commonly used measure of central tendency.It is calculated by summing all data points and dividing by the number of data points.\n",
    "Mean = (Sum of Data Points) / (Number of Data Points)\n",
    "\n",
    "--Median:\n",
    "--\n",
    "The median is the middle value when data is sorted in ascending order.\n",
    "If there is an even number of data points, the median is the average of the two middle values.\n",
    "The median is less sensitive to outliers compared to the mean.\n",
    "\n",
    "--Mode:\n",
    "---\n",
    "The mode is the value that occurs most frequently in a dataset.The mode is particularly useful for categorical data.\n",
    "\n",
    "\n",
    "2. Measures of Variability:\n",
    " \n",
    " --Variance:\n",
    " --\n",
    " Variance measures the average squared deviation of each data point from the mean.It quantifies the overall variability of the dataset.\n",
    "Variance = Σ(xi - μ)² / (n - 1)\n",
    "\n",
    "--Standard Deviation:\n",
    "--\n",
    "\n",
    "The standard deviation is the square root of the variance.It provides a measure of the spread of data \n",
    "Standard Deviation = sqrt(Variance)\n",
    "\n",
    "--Interquartile Range (IQR):\n",
    "--\n",
    "\n",
    " it describes the range between the first quartile (Q1) and the third quartile (Q3) of a dataset. Quartiles divide a dataset into four equal parts, and the IQR covers the middle 50% of the data.\n",
    "IQR = Q3 - Q1"
   ]
  },
  {
   "cell_type": "code",
   "execution_count": null,
   "id": "405db4eb",
   "metadata": {},
   "outputs": [],
   "source": []
  }
 ],
 "metadata": {
  "kernelspec": {
   "display_name": "Python 3 (ipykernel)",
   "language": "python",
   "name": "python3"
  },
  "language_info": {
   "codemirror_mode": {
    "name": "ipython",
    "version": 3
   },
   "file_extension": ".py",
   "mimetype": "text/x-python",
   "name": "python",
   "nbconvert_exporter": "python",
   "pygments_lexer": "ipython3",
   "version": "3.9.13"
  }
 },
 "nbformat": 4,
 "nbformat_minor": 5
}
