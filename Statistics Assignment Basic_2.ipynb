{
 "cells": [
  {
   "cell_type": "markdown",
   "id": "61561c98",
   "metadata": {},
   "source": [
    "## Q1. What are the three measures of central tendency?\n",
    "\n",
    "1. Mean: The mean is calculated by summing up all the values in a data set and dividing by the total number of values.\n",
    "2. Median: The median is the middle value in a data set when it is arranged in ascending or descending order. If there is an even number of data points, the median is the average of the two middle values. \n",
    "3. Mode: The mode is the value that appears most frequently in a data set. \n"
   ]
  },
  {
   "cell_type": "markdown",
   "id": "2a1ea71a",
   "metadata": {},
   "source": [
    "## Q2. What is the difference between the mean, median, and mode? How are they used to measure the central tendency of a dataset?\n",
    "\n",
    "1. mean :-The mean is sensitive to extreme outliers or very large/small values in the dataset. A single outlier can significantly affect the mean.\n",
    "2. The median is less affected by extreme outliers compared to the mean. It is resistant to extreme values because it is based on position rather than the actual values.\n",
    "3. The mode is not influenced by outliers because it is solely based on frequency.\n",
    "\n",
    "--The mean is appropriate for numeric data and provides the arithmetic average.\n",
    "\n",
    "--The median is suitable for data with outliers or skewed distributions and represents the middle value.\n",
    "\n",
    "--The mode is useful for identifying the most common category or value in categorical data."
   ]
  },
  {
   "cell_type": "markdown",
   "id": "834355d7",
   "metadata": {},
   "source": [
    "## Q3. Measure the three measures of central tendency for the given height data:\n",
    "\n",
    "[178,177,176,177,178.2,178,175,179,180,175,178.9,176.2,177,172.5,178,176.5]\n",
    "\n",
    "\n",
    "\n",
    "1. Mean:\n",
    "Mean = (Sum of all values) / (Total number of values)\n",
    "Mean = (172.5 + 175 + 175 + 176 + 176 + 176.2 + 177 + 177 + 178 + 178 + 178 + 178 + 178.2 + 178.9 + 179 + 180) / 16\n",
    "Mean ≈ 176.9\n",
    "\n",
    "2. Median :\n",
    "Since there are 16 data points (an even number), we take the average of the two middle values.\n",
    "Median = (176 + 177) / 2\n",
    "Median = 176.5\n",
    "3. Mode :\n",
    " the value 178 appears most often, occurring 5 times. Therefore, the mode is 178."
   ]
  },
  {
   "cell_type": "markdown",
   "id": "732d3d53",
   "metadata": {},
   "source": [
    "## Q4. Find the standard deviation for the given data:\n",
    "\n",
    "[178,177,176,177,178.2,178,175,179,180,175,178.9,176.2,177,172.5,178,176.5]"
   ]
  },
  {
   "cell_type": "code",
   "execution_count": 3,
   "id": "7f6917ae",
   "metadata": {},
   "outputs": [],
   "source": [
    "import numpy as np\n",
    "\n",
    "Data=[178,177,176,177,178.2,178,175,179,180,175,178.9,176.2,177,172.5,178,176.5]\n",
    "\n",
    "\n",
    "std= np.std(Data)"
   ]
  },
  {
   "cell_type": "code",
   "execution_count": 4,
   "id": "7973b869",
   "metadata": {},
   "outputs": [
    {
     "data": {
      "text/plain": [
       "1.7885814036548633"
      ]
     },
     "execution_count": 4,
     "metadata": {},
     "output_type": "execute_result"
    }
   ],
   "source": [
    "std"
   ]
  },
  {
   "cell_type": "markdown",
   "id": "23254f12",
   "metadata": {},
   "source": [
    "## Q5. How are measures of dispersion such as range, variance, and standard deviation used to describe the spread of a dataset? Provide an example.\n",
    "\n",
    "\n",
    "1. Range:\n",
    "\n",
    "The range is the simplest measure of dispersion and is calculated by subtracting the minimum value from the maximum value in the dataset. It provides a rough estimate of the spread of data but is sensitive to outliers.\n",
    "\n",
    "2. Variance:\n",
    "Variance measures the average squared deviation of each data point from the mean of the dataset. A larger variance implies greater variability in the dataset.\n",
    "\n",
    "\n",
    "3. standard deviation: The standard deviation is the square root of the variance. It provides a more interpretable measure of dispersion, in the same units as the original data. higher standard deviation indicates a wider spread of data points."
   ]
  },
  {
   "cell_type": "code",
   "execution_count": 1,
   "id": "6c1734c4",
   "metadata": {},
   "outputs": [
    {
     "data": {
      "text/plain": [
       "12.0"
      ]
     },
     "execution_count": 1,
     "metadata": {},
     "output_type": "execute_result"
    }
   ],
   "source": [
    "##example\n",
    "\n",
    "import numpy as np\n",
    "\n",
    "A=[10, 12, 13, 11, 14] \n",
    "B= [8, 18, 9, 13, 11] \n",
    "\n",
    "Mean_A= np.mean(A)\n",
    "Mean_B=np.mean(B)\n",
    "\n",
    "Mean_A"
   ]
  },
  {
   "cell_type": "code",
   "execution_count": 2,
   "id": "4279b9f9",
   "metadata": {},
   "outputs": [
    {
     "data": {
      "text/plain": [
       "11.8"
      ]
     },
     "execution_count": 2,
     "metadata": {},
     "output_type": "execute_result"
    }
   ],
   "source": [
    "Mean_B"
   ]
  },
  {
   "cell_type": "markdown",
   "id": "44059cd0",
   "metadata": {},
   "source": [
    "Both Data A and B has almost same mean .ie 12\n",
    "\n",
    "To see the spread in the data we will use Measure of dispersion"
   ]
  },
  {
   "cell_type": "code",
   "execution_count": 5,
   "id": "336aa0ea",
   "metadata": {},
   "outputs": [
    {
     "data": {
      "text/plain": [
       "4"
      ]
     },
     "execution_count": 5,
     "metadata": {},
     "output_type": "execute_result"
    }
   ],
   "source": [
    "Range_A=14-10\n",
    "Range_A"
   ]
  },
  {
   "cell_type": "code",
   "execution_count": 6,
   "id": "1db3b9ae",
   "metadata": {},
   "outputs": [
    {
     "data": {
      "text/plain": [
       "10"
      ]
     },
     "execution_count": 6,
     "metadata": {},
     "output_type": "execute_result"
    }
   ],
   "source": [
    "Range_B=18-8\n",
    "Range_B"
   ]
  },
  {
   "cell_type": "code",
   "execution_count": 9,
   "id": "bf80fe28",
   "metadata": {},
   "outputs": [
    {
     "data": {
      "text/plain": [
       "2.0"
      ]
     },
     "execution_count": 9,
     "metadata": {},
     "output_type": "execute_result"
    }
   ],
   "source": [
    "Variance_A=np.var(A)\n",
    "Variance_A"
   ]
  },
  {
   "cell_type": "code",
   "execution_count": 10,
   "id": "6f9d8181",
   "metadata": {},
   "outputs": [
    {
     "data": {
      "text/plain": [
       "12.559999999999999"
      ]
     },
     "execution_count": 10,
     "metadata": {},
     "output_type": "execute_result"
    }
   ],
   "source": [
    "Variance_B=np.var(B)\n",
    "Variance_B"
   ]
  },
  {
   "cell_type": "markdown",
   "id": "00990169",
   "metadata": {},
   "source": [
    "So the Variance of the Data B is Higher than A, even though the Mean is same."
   ]
  },
  {
   "cell_type": "code",
   "execution_count": 11,
   "id": "2f3d4fde",
   "metadata": {},
   "outputs": [
    {
     "data": {
      "text/plain": [
       "1.4142135623730951"
      ]
     },
     "execution_count": 11,
     "metadata": {},
     "output_type": "execute_result"
    }
   ],
   "source": [
    "Std_A=np.std(A)\n",
    "Std_A"
   ]
  },
  {
   "cell_type": "code",
   "execution_count": 12,
   "id": "6ef272be",
   "metadata": {},
   "outputs": [
    {
     "data": {
      "text/plain": [
       "3.54400902933387"
      ]
     },
     "execution_count": 12,
     "metadata": {},
     "output_type": "execute_result"
    }
   ],
   "source": [
    "Std_B=np.std(B)\n",
    "Std_B"
   ]
  },
  {
   "cell_type": "markdown",
   "id": "2b65b65e",
   "metadata": {},
   "source": [
    "the Standerd deviation is also Higher for B than A.\n",
    "\n",
    "Conclusion:- B list have the higher spread of the Data than the A list"
   ]
  },
  {
   "cell_type": "markdown",
   "id": "4e93c005",
   "metadata": {},
   "source": [
    "## Q6. What is a Venn diagram?\n",
    "\n",
    "--A Venn diagram is a graphical representation used to depict the relationships and commonalities between different sets or groups of items."
   ]
  },
  {
   "cell_type": "markdown",
   "id": "6133e213",
   "metadata": {},
   "source": [
    "## Q7. For the two given sets A = (2,3,4,5,6,7) & B = (0,2,6,8,10). Find:\n",
    "\n",
    "(i) A B\n",
    "\n",
    "(ii) A ⋃ B"
   ]
  },
  {
   "cell_type": "markdown",
   "id": "1d447b30",
   "metadata": {},
   "source": [
    "1. A intersection B= 2,6\n",
    "\n",
    "2. A union B= 0,2,3,4,5,6,7,8,10"
   ]
  },
  {
   "cell_type": "markdown",
   "id": "36465b4c",
   "metadata": {},
   "source": [
    "## Q8. What do you understand about skewness in data?\n",
    "\n",
    "-- it indicates whether the data is skewed or distorted in one direction (to the left or right) rather than being evenly distributed around a central point. "
   ]
  },
  {
   "cell_type": "markdown",
   "id": "d399f155",
   "metadata": {},
   "source": [
    "## Q9. If a data is right skewed then what will be the position of median with respect to mean?\n",
    "\n",
    "--Median will be positioned  to the left of the Mean. in ohterwords median will be less than mean."
   ]
  },
  {
   "cell_type": "markdown",
   "id": "ae311303",
   "metadata": {},
   "source": [
    "## Q10. Explain the difference between covariance and correlation. How are these measures used in statistical analysis?\n",
    "\n",
    "1. Covariance:-\n",
    "Covariance measures the degree to which two variables change together. It indicates whether an increase in one variable corresponds to an increase or decrease in another variable.\n",
    "\n",
    "--The magnitude of the covariance value does not provide information about the strength of the relationship.\n",
    "\n",
    "\n",
    "2. Correlation:-Correlation is a standardized measure that quantifies the strength and direction of the linear relationship between two variables. It scales the covariance by the standard deviations of the variables, resulting in a value between -1 and 1.\n",
    "\n",
    "--Usage in Statistical analysis\n",
    "--\n",
    "\n",
    "--Correlation provides a standardized measure that is easy to interpret and compare, as it is unitless and bounded between -1 and 1.\n",
    "\n",
    "--Covariance can be difficult to interpret due to its units and unbounded range.\n",
    "\n",
    "--Correlation is commonly used in fields like finance, economics, and social sciences to assess relationships between variables, identify patterns, and make predictions.\n",
    "\n",
    "--Covariance is less commonly used than correlation when analyzing the relationship between variables."
   ]
  },
  {
   "cell_type": "markdown",
   "id": "41b01943",
   "metadata": {},
   "source": [
    "## Q11. What is the formula for calculating the sample mean? Provide an example calculation for a dataset.\n",
    "\n",
    "--The formula for calculating the sample mean (average) of a dataset is as follows:\n",
    "\n",
    "Sample Mean  = (Sum of all data points) / (Number of data points)\n",
    "\n",
    "FOR EXAMPLE:-\n",
    "Exam_score=[85, 92, 78, 90, 88]\\\n",
    "\n",
    "x=(85 + 92 + 78 + 90 + 88) / 5\n",
    "\n",
    "x= 433 / 5=86.6\n",
    "\n",
    "samnple mean(x)=86.6"
   ]
  },
  {
   "cell_type": "markdown",
   "id": "9c568e76",
   "metadata": {},
   "source": [
    "## Q12. For a normal distribution data what is the relationship between its measure of central tendency?\n",
    "\n",
    "--Mean. Median and Mode of the Data will be same ans located at the center of the distribution."
   ]
  },
  {
   "cell_type": "markdown",
   "id": "32d9e876",
   "metadata": {},
   "source": [
    "## Q13. How is covariance different from correlation?\n",
    "\n",
    "1. Covariance:-\n",
    "Covariance measures the degree to which two variables change together. It indicates whether an increase in one variable corresponds to an increase or decrease in another variable.\n",
    "\n",
    "--The range of covariance is unbounded\n",
    "\n",
    "-- The magnitude of the covariance value does not provide information about the strength of the relationship.\n",
    "\n",
    "2.  COrrelation:-\n",
    "--Correlation is a standardized measure that quantifies the strength and direction of the linear relationship between two variables. \n",
    "\n",
    "--It scales the covariance by the standard deviations of the variables, resulting in a value between -1 and 1.\n",
    "\n",
    "--The magnitude of the correlation coefficient reflects the strength of the linear relationship, with 1 indicating a perfect linear relationship, 0 indicating no linear relationship, and -1 indicating a perfect inverse linear relationship."
   ]
  },
  {
   "cell_type": "markdown",
   "id": "11756f99",
   "metadata": {},
   "source": [
    "## Q14. How do outliers affect measures of central tendency and dispersion? Provide an example.\n",
    "\n",
    "--Measures of Central Tendency:\n",
    "--\n",
    "\n",
    "1. Mean: Outliers can greatly influence the mean because it involves summing all values and dividing by the number of values.\n",
    "\n",
    "2. Median: The median is less affected by outliers because it is not influenced by the actual values of outliers but rather by their positions relative to the other data points.\n",
    "\n",
    "3. Mode: The mode, like the median, is not as sensitive to outliers as the mean. \n",
    "\n",
    "--Measures of Dispersion:\n",
    "--\n",
    "1. Variance and Standard Deviation:\n",
    "Outliers can have a pronounced effect on the variance and standard deviation because they involve the squared differences between data points and the mean. Large differences between an outlier and the mean will increase the variance and standard deviation.\n",
    "\n",
    "for Example:-\n",
    "\n",
    "\n",
    "Data= [40,000, 45,000, 42,000, 41,000, 100,000]\n",
    "\n",
    "Without the outlier (100,000)\n",
    "\n",
    "Mean: (40,000 + 45,000 + 42,000 + 41,000) / 4 = 42,000\n",
    "\n",
    "Median: 42,000\n",
    "\n",
    "Mode: No mode\n",
    "\n",
    "\n",
    "Variance: [((40,000 - 42,000)^2 + (45,000 - 42,000)^2 + (42,000 - 42,000)^2 + (41,000 - 42,000)^2) / 4] ≈ 1,000,000\n",
    "\n",
    "Standard Deviation: sqrt(1,000,000) ≈ 1,000\n",
    "\n",
    "With the outlier included, the measures become:\n",
    "\n",
    "Mean: (40,000 + 45,000 + 42,000 + 41,000 + 100,000) / 5 = 53,600\n",
    "\n",
    "Median: 42,000\n",
    "\n",
    "Mode: No mode\n",
    "\n",
    "\n",
    "Variance: [((40,000 - 53,600)^2 + (45,000 - 53,600)^2 + (42,000 - 53,600)^2 + (41,000 - 53,600)^2 + (100,000 - 53,600)^2) / 5] ≈ 1,280,000\n",
    "\n",
    "Standard Deviation: sqrt(1,280,000) ≈ 1,131.37"
   ]
  },
  {
   "cell_type": "code",
   "execution_count": null,
   "id": "650a5df3",
   "metadata": {},
   "outputs": [],
   "source": []
  }
 ],
 "metadata": {
  "kernelspec": {
   "display_name": "Python 3 (ipykernel)",
   "language": "python",
   "name": "python3"
  },
  "language_info": {
   "codemirror_mode": {
    "name": "ipython",
    "version": 3
   },
   "file_extension": ".py",
   "mimetype": "text/x-python",
   "name": "python",
   "nbconvert_exporter": "python",
   "pygments_lexer": "ipython3",
   "version": "3.9.13"
  }
 },
 "nbformat": 4,
 "nbformat_minor": 5
}
