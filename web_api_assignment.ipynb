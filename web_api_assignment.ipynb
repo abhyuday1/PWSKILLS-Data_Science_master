{
 "cells": [
  {
   "cell_type": "markdown",
   "id": "32c5c386",
   "metadata": {},
   "source": [
    "## Q1. What is an API? Give an example, where an API is used in real life.\n",
    "--An API, or Application Programming Interface, is a set of rules and protocols that allows different software applications to communicate with each other\n",
    "--APIs enable the integration of different software systems, allowing them to work together seamlessly.\n",
    "\n",
    "for example:-\n",
    "Twitter API: Twitter provides a public API that allows to interact with Twitter's platform programmatically. This API offers various functionalities, such as posting tweets, reading user timelines, searching for tweets, and accessing user data."
   ]
  },
  {
   "cell_type": "markdown",
   "id": "74133b0c",
   "metadata": {},
   "source": [
    "## Q2. Give advantages and disadvantages of using API.\n",
    "\n",
    "--Advantages of Using APIs:\n",
    "1. Efficiency: APIs provide pre-built functionality and data access, saving significant time and effort.\n",
    "2. Rapid Development: APIs accelerate the development process by allowing developers to build on top of established, well-documented interfaces.\n",
    "3. Consistency: APIs provide a consistent and standardized way to access data and services. This consistency simplifies development and ensures data integrity.\n",
    "\n",
    "--Disadvantages of Using APIs:\n",
    "\n",
    "1. Dependency: When an application relies on external APIs, it becomes dependent on the availability and stability of those APIs. If an API undergoes changes or experiences downtime, it can disrupt the functioning of dependent applications.\n",
    "2. Security Risks: APIs can introduce security vulnerabilities if not properly secured. Unauthorized access, data breaches, and other security issues can occur if API security measures are inadequate.\n",
    "\n",
    "3. Data Privacy: Sharing data through APIs may raise privacy concerns, especially when dealing with sensitive or personal information. Compliance with data protection regulations is crucial."
   ]
  },
  {
   "cell_type": "markdown",
   "id": "cbed3d10",
   "metadata": {},
   "source": [
    "## Q3. What is a Web API? Differentiate between API and Web API.\n",
    "\n",
    "#### WEB API:-\n",
    "A Web API, also known as a web service or HTTP API, is a specific type of API that is designed to be accessed over the internet via standard web protocols, typically using HTTP or HTTPS. Web APIs enable communication between different software systems or services over the web. \n",
    "\n",
    "#### Differences Between API and Web API:\n",
    "1. APIs, in a broader sense, encompass any interface that allows software components to communicate, regardless of whether it's web-based or not where as Web APIs specifically refer to APIs that are accessible over the internet using web protocols like HTTP. They are designed for remote interactions over the web.\n",
    "\n",
    "2. APIs can be either local (within the same process or device) or remote (across different devices or networks)where as Web APIs are always remote and are accessible via URLs, making them suitable for cross-platform and cross-device interactions."
   ]
  },
  {
   "cell_type": "markdown",
   "id": "d84b70b2",
   "metadata": {},
   "source": [
    "## Q4. Explain REST and SOAP Architecture. Mention shortcomings of SOAP.\n",
    "\n",
    "#### REST:-\n",
    "REST( Representational State Transfer) is an architectural style for designing networked applications. It is not a protocol but a set of constraints and principles that emphasize simplicity, scalability, and the use of existing web technologies. REST is widely used for building web services and APIs.\n",
    "\n",
    "#### SOAP:-\n",
    "SOAP( Simple Object Access Protoco) is a protocol for exchanging structured information in the implementation of web services. It relies on XML as its message format and typically uses HTTP, SMTP, or other application layer protocols for message transmission.\n",
    "\n",
    "#### Shortcomings of SOAP:\n",
    "1. Complexity: SOAP messages are typically larger and more complex than their REST due to the XML format and the inclusion of additional information, such as headers and namespaces.\n",
    "2. Limited Browser Support: While RESTful services can be easily consumed by web browsers using standard HTTP methods, SOAP services often require additional libraries or plugins for browser-based clients\n",
    "3. Performance: The XML format used by SOAP can be less efficient in terms of parsing and processing compared to more lightweight formats like JSON used in REST."
   ]
  },
  {
   "cell_type": "markdown",
   "id": "cda3d151",
   "metadata": {},
   "source": [
    "## Q5. Differentiate between REST and SOAP.\n",
    "\n",
    "1. REST is an architectural style that relies on existing HTTP methods and is based on a set of principles for designing networked applications. It is not a protocol in itself but a set of constraints and recommendations.where as SOAP is a protocol with a specific message format and protocol specifications for communication between applications.\n",
    "2. REST typically uses lightweight data formats such as JSON or XML for message payloads. where as SOAP messages are XML-based, with a standardized structure that includes headers and bodies.\n",
    "\n",
    "3.  REST is designed to be stateless, meaning each request from a client to a server must contain all the information needed to understand and process the request. where as SOAP can be stateful or stateless, depending on the implementation. It does not impose a strict statelessness requirement."
   ]
  }
 ],
 "metadata": {
  "kernelspec": {
   "display_name": "Python 3 (ipykernel)",
   "language": "python",
   "name": "python3"
  },
  "language_info": {
   "codemirror_mode": {
    "name": "ipython",
    "version": 3
   },
   "file_extension": ".py",
   "mimetype": "text/x-python",
   "name": "python",
   "nbconvert_exporter": "python",
   "pygments_lexer": "ipython3",
   "version": "3.9.13"
  }
 },
 "nbformat": 4,
 "nbformat_minor": 5
}
