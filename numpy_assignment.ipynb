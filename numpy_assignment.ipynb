{
 "cells": [
  {
   "cell_type": "markdown",
   "id": "4c191191",
   "metadata": {},
   "source": [
    "## Consider the below code to answer further questions:\n",
    "\n",
    "import numpy as np\n",
    "\n",
    "list_ = [ ‘1’ , ’2’ , ‘3’ , ‘4’ , ‘5’ ]\n",
    "\n",
    "array_list = np.array(object = list_)\n",
    "\n",
    "#### Q1. Is there any difference in the data type of variables list_ and array_list? If there is then write a code to print the data types of both the variables.\n",
    "\n",
    "--Yes, There is differences between list_ and array_list, list_ is a python list whereas array_list is numpy array"
   ]
  },
  {
   "cell_type": "code",
   "execution_count": 3,
   "id": "ff94e48c",
   "metadata": {},
   "outputs": [
    {
     "name": "stdout",
     "output_type": "stream",
     "text": [
      "type of list_ is <class 'list'>\n",
      "type of array_list is <class 'numpy.ndarray'>\n"
     ]
    }
   ],
   "source": [
    "\n",
    "import numpy as np\n",
    "\n",
    "list_ = [ '1' , '2' , '3' , '4' , '5' ]\n",
    "\n",
    "array_list = np.array(object = list_)\n",
    "\n",
    "print(\"type of list_ is \" +str(type(list_)))\n",
    "\n",
    "print(\"type of array_list is \" + str(type(array_list)))"
   ]
  },
  {
   "cell_type": "markdown",
   "id": "cd5d648a",
   "metadata": {},
   "source": [
    "## Q2. Write a code to print the data type of each and every element of both the variables list_ and array_list."
   ]
  },
  {
   "cell_type": "code",
   "execution_count": 5,
   "id": "cb4c1973",
   "metadata": {},
   "outputs": [
    {
     "name": "stdout",
     "output_type": "stream",
     "text": [
      "Data type of elements of list_ are :-\n",
      "1 :- <class 'str'>\n",
      "2 :- <class 'str'>\n",
      "3 :- <class 'str'>\n",
      "4 :- <class 'str'>\n",
      "5 :- <class 'str'>\n",
      "Data type of elements of array_list are :-\n",
      "1 :- <class 'numpy.str_'>\n",
      "2 :- <class 'numpy.str_'>\n",
      "3 :- <class 'numpy.str_'>\n",
      "4 :- <class 'numpy.str_'>\n",
      "5 :- <class 'numpy.str_'>\n"
     ]
    }
   ],
   "source": [
    "print( \"Data type of elements of list_ are :-\")\n",
    "\n",
    "for i in list_:\n",
    "    print(str(i)+ \" :- \"+ str(type(i)))\n",
    "    \n",
    "print( \"Data type of elements of array_list are :-\")\n",
    "\n",
    "for i in array_list:\n",
    "    print(str(i)+ \" :- \"+ str(type(i)))"
   ]
  },
  {
   "cell_type": "markdown",
   "id": "477d7ca3",
   "metadata": {},
   "source": [
    "## Q3. Considering the following changes in the variable, array_list:\n",
    "array_list = np.array(object = list_, dtype = int)\n",
    "#### Will there be any difference in the data type of the elements present in both the variables, list_ and arra_list? If so then print the data types of each and every element present in both the variables, list_ and array_list.\n",
    "Consider the below code to answer further questions:\n",
    "\n",
    "import numpy as np\n",
    "\n",
    "num_list = [ [ 1 , 2 , 3 ] , [ 4 , 5 , 6 ] ]\n",
    "\n",
    "num_array = np.array(object = num_list)\n",
    "\n",
    "\n",
    "#### Answer:-\n",
    " array_list = np.array(object = list_, dtype = int)\n",
    " \n",
    " After making the above chnages, yes There will the differences in the Data type of the both Variables list_ and array_list as elements of the list_ variable are the type of string where as after making changes in the array_list the type of the elements of the array_list will becomes integer."
   ]
  },
  {
   "cell_type": "code",
   "execution_count": 6,
   "id": "888f0829",
   "metadata": {},
   "outputs": [],
   "source": [
    "import  numpy as np\n",
    "\n",
    "num_list=[[1,2,3],[4,5,6]]\n",
    "num_array= np.array(object=num_list)"
   ]
  },
  {
   "cell_type": "markdown",
   "id": "73eab042",
   "metadata": {},
   "source": [
    "## Q4. Write a code to find the following characteristics of variable, num_array:\n",
    "(i) shape\n",
    "(ii) size"
   ]
  },
  {
   "cell_type": "code",
   "execution_count": 9,
   "id": "6fb9957d",
   "metadata": {},
   "outputs": [
    {
     "data": {
      "text/plain": [
       "(2, 3)"
      ]
     },
     "execution_count": 9,
     "metadata": {},
     "output_type": "execute_result"
    }
   ],
   "source": [
    "### shape\n",
    "\n",
    "num_array.shape"
   ]
  },
  {
   "cell_type": "code",
   "execution_count": 10,
   "id": "8fc58599",
   "metadata": {},
   "outputs": [
    {
     "data": {
      "text/plain": [
       "6"
      ]
     },
     "execution_count": 10,
     "metadata": {},
     "output_type": "execute_result"
    }
   ],
   "source": [
    "### size\n",
    "\n",
    "num_array.size"
   ]
  },
  {
   "cell_type": "markdown",
   "id": "a814ce40",
   "metadata": {},
   "source": [
    "## Q5. Write a code to create numpy array of 3*3 matrix containing zeros only, using a numpy array creation function."
   ]
  },
  {
   "cell_type": "code",
   "execution_count": 14,
   "id": "9b202397",
   "metadata": {},
   "outputs": [
    {
     "data": {
      "text/plain": [
       "array([[0., 0., 0.],\n",
       "       [0., 0., 0.],\n",
       "       [0., 0., 0.]])"
      ]
     },
     "execution_count": 14,
     "metadata": {},
     "output_type": "execute_result"
    }
   ],
   "source": [
    "import numpy as np\n",
    "\n",
    "zeros_matrix=np.zeros((3,3))\n",
    "\n",
    "zeros_matrix"
   ]
  },
  {
   "cell_type": "markdown",
   "id": "0b275339",
   "metadata": {},
   "source": [
    "## Q6. Create an identity matrix of shape (5,5) using numpy functions?\n",
    "[Hint: An identity matrix is a matrix containing 1 diagonally and other elements will be 0.]"
   ]
  },
  {
   "cell_type": "code",
   "execution_count": 16,
   "id": "8c3975a4",
   "metadata": {},
   "outputs": [
    {
     "data": {
      "text/plain": [
       "array([[1., 0., 0., 0., 0.],\n",
       "       [0., 1., 0., 0., 0.],\n",
       "       [0., 0., 1., 0., 0.],\n",
       "       [0., 0., 0., 1., 0.],\n",
       "       [0., 0., 0., 0., 1.]])"
      ]
     },
     "execution_count": 16,
     "metadata": {},
     "output_type": "execute_result"
    }
   ],
   "source": [
    "import numpy as np\n",
    "\n",
    "identity_matrix=np.eye(5)\n",
    "identity_matrix"
   ]
  },
  {
   "cell_type": "code",
   "execution_count": null,
   "id": "84c44647",
   "metadata": {},
   "outputs": [],
   "source": []
  }
 ],
 "metadata": {
  "kernelspec": {
   "display_name": "Python 3 (ipykernel)",
   "language": "python",
   "name": "python3"
  },
  "language_info": {
   "codemirror_mode": {
    "name": "ipython",
    "version": 3
   },
   "file_extension": ".py",
   "mimetype": "text/x-python",
   "name": "python",
   "nbconvert_exporter": "python",
   "pygments_lexer": "ipython3",
   "version": "3.9.13"
  }
 },
 "nbformat": 4,
 "nbformat_minor": 5
}
