{
 "cells": [
  {
   "cell_type": "markdown",
   "id": "29134633",
   "metadata": {},
   "source": [
    "## Q1. What is a database? Differentiate between SQL and NoSQL databases.\n",
    "\n",
    "--A database is a structured collection of data organized for efficient storage, retrieval, and management. It serves as a central repository for storing and managing large volumes of information, making it easier to perform operations like querying, updating, and analyzing the data.\n",
    "\n",
    "#### Differentiating SQL and NoSQL Databases:\n",
    "1. Relational Structure: SQL (Structured Query Language) databases are based on a relational data model, where data is organized into tables with rows and columns. Each table has a predefined schema that defines the structure of the data. where as NoSQL databases are designed for non-relational or distributed data storage. They offer more flexibility in terms of data models, allowing for documents, key-value pairs, wide-column stores, or graph databases.\n",
    "\n",
    "2. Compliance: SQL databases are known for their strict adherence to the ACID properties (Atomicity, Consistency, Isolation, Durability). Whereas NoSQL databases are often associated with the BASE (Basically Available, Soft state, Eventually consistent) model, which prioritizes availability and partition tolerance over strict consistency.\n",
    "\n",
    "3. Schema: SQL databases require a predefined schema means we need to define the structure of your data (table schema) before inserting data. whereas NoSQL databases are typically schema-less, which means we can insert data without defining a rigid schema in advance. "
   ]
  },
  {
   "cell_type": "markdown",
   "id": "79a2d649",
   "metadata": {},
   "source": [
    "## Q2. What is DDL? Explain why CREATE, DROP, ALTER, and TRUNCATE are used with an example.\n",
    "\n",
    "--DDL (Data Definition Language) is a subset of SQL (Structured Query Language) that deals with the definition and structure of database objects. DDL statements are used to create, modify, and delete database objects\n",
    "\n",
    "1. CREATE: The CREATE statement is used to create new database objects such as tables, indexes, views, and databases. It specifies the structure and attributes of the object being created.\n",
    "\n",
    "    CREATE TABLE Employees (\n",
    "    EmployeeID INT PRIMARY KEY,\n",
    "    FirstName VARCHAR(50),\n",
    "    LastName VARCHAR(50),\n",
    "    Age INT\n",
    ");\n",
    "\n",
    "2. DROP: The DROP statement is used to delete database objects. When we no longer need a table, index, or any other database object, ywe can use DROP to remove it from the database.\n",
    "\n",
    "DROP TABLE Employees;\n",
    "\n",
    "\n",
    "3. ALTER: The ALTER statement is used to modify the structure of an existing database object. It allows you to add, modify, or delete columns, constraints, or indexes.\n",
    "\n",
    "ALTER TABLE Employees\n",
    "ADD Email VARCHAR(100);\n",
    "\n",
    "\n",
    "4. TRUNCATE: The TRUNCATE statement is used to quickly remove all rows from a table while keeping the table structure intact.\n",
    "\n",
    "TRUNCATE TABLE Employees;\n"
   ]
  },
  {
   "cell_type": "markdown",
   "id": "b2944071",
   "metadata": {},
   "source": [
    "## Q3. What is DML? Explain INSERT, UPDATE, and DELETE with an example.\n",
    "\n",
    "--DML (Data Manipulation Language) is a subset of SQL (Structured Query Language) used for manipulating data stored in a database. \n",
    "\n",
    "1. INSERT: The INSERT statement is used to add new records into a table. You can use it to specify values for each column, and the data will be inserted into the specified table.\n",
    "\n",
    "INSERT INTO Employees (EmployeeID, FirstName, LastName, Age)\n",
    "VALUES (1, 'Abhyuday', 'Kumar', 30);\n",
    "\n",
    "\n",
    "2. UPDATE: The UPDATE statement is used to modify existing records in a table.\n",
    "\n",
    "UPDATE Employees\n",
    "SET Age = 31\n",
    "WHERE EmployeeID = 1;\n",
    "\n",
    "3. DELETE: The DELETE statement is used to remove one or more records from a table based on a specified condition. It permanently deletes data from the table\n",
    "\n",
    "DELETE FROM Employees\n",
    "WHERE EmployeeID = 1;\n"
   ]
  },
  {
   "cell_type": "markdown",
   "id": "91494751",
   "metadata": {},
   "source": [
    "## Q4. What is DQL? Explain SELECT with an example.\n",
    "\n",
    "--DQL (Data Query Language) is a subset of SQL (Structured Query Language) used for retrieving data from a database. DQL is primarily focused on querying and retrieving data from database tables.\n",
    "\n",
    "SELECT Statement:\n",
    "The SELECT statement is used to query data from one or more tables. It allows you to specify which columns you want to retrieve, the table(s) from which to retrieve the data, and optional conditions for filtering the data\n",
    "\n",
    "for example:-\n",
    "SELECT FirstName, LastName, Age\n",
    "FROM Employees;\n"
   ]
  },
  {
   "cell_type": "markdown",
   "id": "f55addc3",
   "metadata": {},
   "source": [
    "## Q5. Explain Primary Key and Foreign Key.\n",
    "\n",
    "### Primary Key :-\n",
    "-->A Primary Key is a field or combination of fields in a database table that uniquely identifies each record or row in that table.\n",
    "-->A primary key must contain unique values for each record in the table. No two records can have the same primary key value\n",
    "\n",
    "### Foreign Key :-\n",
    "-->A Foreign Key is a field or set of fields in a database table that is used to establish a link between two tables based on the values they contain.  \n",
    "-->A foreign key typically references the primary key of another table, creating a relationship between the two tables."
   ]
  },
  {
   "cell_type": "markdown",
   "id": "e153a9b7",
   "metadata": {},
   "source": [
    "## Q6. Write a python code to connect MySQL to python. Explain the cursor() and execute() method.\n",
    "\n",
    "import mysql.connector\n",
    "\n",
    "mydb = mysql.connector.connect(\n",
    "  host=\"localhost\",\n",
    "  user=\"abc\",\n",
    "  password=\"password\"\n",
    ")\n",
    "print(mydb)\n",
    "mycursor = mydb.cursor()\n",
    "mycursor.execute(\"Select * from test.Employees\")"
   ]
  },
  {
   "cell_type": "markdown",
   "id": "60f5984e",
   "metadata": {},
   "source": [
    "### Cursor:-\n",
    " A cursor is an object that allows you to interact with the database. we can create a cursor using connection.cursor().\n",
    " \n",
    " ### Execute:-\n",
    " we can use the execute() method of the cursor to execute an SQL query. "
   ]
  },
  {
   "cell_type": "markdown",
   "id": "0aa92887",
   "metadata": {},
   "source": [
    "### Q7. Give the order of execution of SQL clauses in an SQL query.\n",
    "\n",
    "--In an SQL query, the clauses are generally executed in a specific order. The order of execution of SQL clauses is as follows:\n",
    "\n",
    "1. FROM: The FROM clause specifies the table or tables from which the data will be retrieved. This clause is executed first to determine the source of the data.\n",
    "\n",
    "2. WHERE: The WHERE clause is used to filter the rows from the tables specified in the FROM clause.\n",
    "\n",
    "3. GROUP BY: The GROUP BY clause is used to group rows with similar values in one or more columns into summary rows. \n",
    "4. HAVING: The HAVING clause is used to filter the groups produced by the GROUP BY clause based on aggregate function results.\n",
    "5. SELECT: The SELECT clause specifies the columns that will be included in the result set.\n",
    "6. ORDER BY: The ORDER BY clause is used to sort the result set based on one or more columns."
   ]
  },
  {
   "cell_type": "code",
   "execution_count": null,
   "id": "eb8a072f",
   "metadata": {},
   "outputs": [],
   "source": []
  }
 ],
 "metadata": {
  "kernelspec": {
   "display_name": "Python 3 (ipykernel)",
   "language": "python",
   "name": "python3"
  },
  "language_info": {
   "codemirror_mode": {
    "name": "ipython",
    "version": 3
   },
   "file_extension": ".py",
   "mimetype": "text/x-python",
   "name": "python",
   "nbconvert_exporter": "python",
   "pygments_lexer": "ipython3",
   "version": "3.9.13"
  }
 },
 "nbformat": 4,
 "nbformat_minor": 5
}
