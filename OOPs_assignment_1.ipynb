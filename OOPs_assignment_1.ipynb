{
 "cells": [
  {
   "cell_type": "markdown",
   "id": "9b9aaa93",
   "metadata": {},
   "source": [
    "## Q1. Explain Class and Object with respect to Object-Oriented Programming. Give a suitable example.\n",
    "\n",
    "Class:-\n",
    "    A Class is Template or Blueprint for the creating objects. it specifies the attributes and methods that the objects of the class will possess.it encapsulate the common properties aand behaviors of a group of Objects.\n",
    "    \n",
    "Objects:-\n",
    "    AN Object is  and instance of the class. it has their own unique data and state but share the same methods of the class.\n",
    "    \n",
    "    for Example:-\n",
    "    "
   ]
  },
  {
   "cell_type": "code",
   "execution_count": 2,
   "id": "9cec4faf",
   "metadata": {},
   "outputs": [],
   "source": [
    "class Car:\n",
    "    def __init__(self, model, speed):\n",
    "        self.model=model\n",
    "        self.top_speed=speed\n",
    "    def get_the_model(self):\n",
    "        print(f\"car model is {self.model} \")\n",
    "    def get_Speed(self):\n",
    "        print(f\"{self.top_speed} is the speed of model {self.model}\")\n",
    "        \n",
    "car1=Car(\"Tesla\", 180)\n",
    "Car2=Car(\"Toyota\", 160)"
   ]
  },
  {
   "cell_type": "code",
   "execution_count": 3,
   "id": "935d0dcb",
   "metadata": {},
   "outputs": [
    {
     "name": "stdout",
     "output_type": "stream",
     "text": [
      "car model is Tesla \n"
     ]
    }
   ],
   "source": [
    "car1.get_the_model()"
   ]
  },
  {
   "cell_type": "code",
   "execution_count": 5,
   "id": "5acac250",
   "metadata": {},
   "outputs": [
    {
     "name": "stdout",
     "output_type": "stream",
     "text": [
      "car model is Toyota \n"
     ]
    }
   ],
   "source": [
    "Car2.get_the_model()"
   ]
  },
  {
   "cell_type": "code",
   "execution_count": 6,
   "id": "2f550fbf",
   "metadata": {},
   "outputs": [
    {
     "name": "stdout",
     "output_type": "stream",
     "text": [
      "180 is the speed of model Tesla\n"
     ]
    }
   ],
   "source": [
    "car1.get_Speed()"
   ]
  },
  {
   "cell_type": "code",
   "execution_count": 7,
   "id": "03feedab",
   "metadata": {},
   "outputs": [
    {
     "name": "stdout",
     "output_type": "stream",
     "text": [
      "160 is the speed of model Toyota\n"
     ]
    }
   ],
   "source": [
    "Car2.get_Speed()"
   ]
  },
  {
   "cell_type": "markdown",
   "id": "31186e60",
   "metadata": {},
   "source": [
    "## Q2. Name the four pillars of OOPs.\n",
    "\n",
    "1. Ploymerphism\n",
    "2. Encapsulation\n",
    "3. Inheritence\n",
    "4. Abstraction."
   ]
  },
  {
   "cell_type": "markdown",
   "id": "53e142b3",
   "metadata": {},
   "source": [
    "## Q3. Explain why the __init__() function is used. Give a suitable example.\n",
    "\n",
    "The __init__ function is a magic method, often refferd as constructor. it is used ot initialize the attributes or properties of an object when an instance of class created. it is automatically called  when an object is instantiated from class.\n",
    "\n",
    "Uses of the __init__ function:-\n",
    "1. Initalization\n",
    "2. Data Encapsulation\n",
    "\n",
    "For Example:-\n",
    "\n"
   ]
  },
  {
   "cell_type": "code",
   "execution_count": 12,
   "id": "5593a6a3",
   "metadata": {},
   "outputs": [],
   "source": [
    "class Person:\n",
    "    def __init__(self, first_name, last_name, age):\n",
    "        self.first_name=first_name\n",
    "        self.last_name=last_name\n",
    "        self.age=age\n",
    "        \n",
    "    def get_name_age(self):\n",
    "        \n",
    "        print(f\"name {self.first_name}+{self.last_name} and age is {self.age}\")\n",
    "        "
   ]
  },
  {
   "cell_type": "code",
   "execution_count": 13,
   "id": "a346be09",
   "metadata": {},
   "outputs": [],
   "source": [
    "person1=Person(\"Abhyuday\", \"Kumar\", 89)"
   ]
  },
  {
   "cell_type": "code",
   "execution_count": 14,
   "id": "8f8428c3",
   "metadata": {},
   "outputs": [
    {
     "name": "stdout",
     "output_type": "stream",
     "text": [
      "name Abhyuday+Kumar and age is 89\n"
     ]
    }
   ],
   "source": [
    "person1.get_name_age()"
   ]
  },
  {
   "cell_type": "markdown",
   "id": "fcd2c30f",
   "metadata": {},
   "source": [
    "## Q4. Why self is used in OOPs?\n",
    "\n",
    "In OOPs 'self' is reference to the instance of the class. it is used to access and manupulate the instance's attribute and methods.\n",
    "\n",
    "Uses:-\n",
    "1. Accessing instance Variables:- it is used to access and modify the instance specific attributes of a class.\n",
    "2. invoking instances methods:- it is used to call instance methods (methods thats operates on the instance's data)\n",
    "3. Encapsulation:- use of 'self' is a way to encapsulate and manage state of the objects."
   ]
  },
  {
   "cell_type": "markdown",
   "id": "8ea24ba5",
   "metadata": {},
   "source": [
    "## Q5. What is inheritance? Give an example for each type of inheritance.\n",
    "\n",
    "Inheritence is Fundamental concept of OOP that allows to create a derived class based on the existing class. Inheritence enables the reuse of code and creation of relationship between classes, where derived class inherits the attributes and methods of the Base class.\n",
    "\n",
    "Types of Inheritence:-\n",
    "1. single Inheeritence:- it involves one base class and one derived class\n"
   ]
  },
  {
   "cell_type": "code",
   "execution_count": 16,
   "id": "1768712c",
   "metadata": {},
   "outputs": [
    {
     "data": {
      "text/plain": [
       "'Wooof'"
      ]
     },
     "execution_count": 16,
     "metadata": {},
     "output_type": "execute_result"
    }
   ],
   "source": [
    "#Single Inheritence\n",
    "\n",
    "class Animal:\n",
    "    def speak(self):\n",
    "        pass\n",
    "class Dog(Animal):\n",
    "    def speak(self):\n",
    "        return \"Wooof\"\n",
    "    \n",
    "dog=Dog()\n",
    "dog.speak()"
   ]
  },
  {
   "cell_type": "markdown",
   "id": "c560a1ee",
   "metadata": {},
   "source": [
    " 2. Multiple Inheritence:- It involves a derived class inheriting from two or more base classes"
   ]
  },
  {
   "cell_type": "code",
   "execution_count": 18,
   "id": "99e116bf",
   "metadata": {},
   "outputs": [
    {
     "data": {
      "text/plain": [
       "'Screech!'"
      ]
     },
     "execution_count": 18,
     "metadata": {},
     "output_type": "execute_result"
    }
   ],
   "source": [
    "# Multiple Inheritance Example\n",
    "class Bird:\n",
    "    def speak(self):\n",
    "        pass\n",
    "\n",
    "class Mammal:\n",
    "    def speak(self):\n",
    "        pass\n",
    "\n",
    "class Bat(Bird, Mammal):\n",
    "    def speak(self):\n",
    "        return \"Screech!\"\n",
    "\n",
    "bat = Bat()\n",
    "bat.speak()"
   ]
  },
  {
   "cell_type": "markdown",
   "id": "f474f5a1",
   "metadata": {},
   "source": [
    "3. Multilevel Inheritence:- it involves the chain of inheritence with multiple levle  of base and derived class."
   ]
  },
  {
   "cell_type": "code",
   "execution_count": 19,
   "id": "b2130907",
   "metadata": {},
   "outputs": [
    {
     "data": {
      "text/plain": [
       "'Yip!'"
      ]
     },
     "execution_count": 19,
     "metadata": {},
     "output_type": "execute_result"
    }
   ],
   "source": [
    "# Multilevel Inheritance Example\n",
    "class Animal:\n",
    "    def speak(self):\n",
    "        pass\n",
    "\n",
    "class Dog(Animal):\n",
    "    def speak(self):\n",
    "        return \"Woof!\"\n",
    "\n",
    "class Puppy(Dog):\n",
    "    def speak(self):\n",
    "        return \"Yip!\"\n",
    "\n",
    "puppy = Puppy()\n",
    "puppy.speak()"
   ]
  },
  {
   "cell_type": "code",
   "execution_count": null,
   "id": "6b52c491",
   "metadata": {},
   "outputs": [],
   "source": []
  }
 ],
 "metadata": {
  "kernelspec": {
   "display_name": "Python 3 (ipykernel)",
   "language": "python",
   "name": "python3"
  },
  "language_info": {
   "codemirror_mode": {
    "name": "ipython",
    "version": 3
   },
   "file_extension": ".py",
   "mimetype": "text/x-python",
   "name": "python",
   "nbconvert_exporter": "python",
   "pygments_lexer": "ipython3",
   "version": "3.9.13"
  }
 },
 "nbformat": 4,
 "nbformat_minor": 5
}
