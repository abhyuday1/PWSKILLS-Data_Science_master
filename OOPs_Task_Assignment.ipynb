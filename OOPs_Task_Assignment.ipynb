{
 "cells": [
  {
   "cell_type": "markdown",
   "id": "d175d935",
   "metadata": {},
   "source": [
    "## Q1, Create a vehicle class with an init method having instance variables as name_of_vehicle, max_speed and average_of_vehicle."
   ]
  },
  {
   "cell_type": "code",
   "execution_count": 6,
   "id": "8a73e9a6",
   "metadata": {},
   "outputs": [],
   "source": [
    "class vehicle :\n",
    "    def __init__(self,name_of_vehicle,max_speed,average_of_vehicle):\n",
    "        self.name_of_vehicle=name_of_vehicle\n",
    "        self.max_speed=max_speed\n",
    "        self.average_of_vehicle=average_of_vehicle"
   ]
  },
  {
   "cell_type": "markdown",
   "id": "4ebbbb31",
   "metadata": {},
   "source": [
    "## Q2. Create a child class car from the vehicle class created in Que 1, which will inherit the vehicle class. Create a method named seating_capacity which takes capacity as an argument and returns the name of the vehicle and its seating capacity."
   ]
  },
  {
   "cell_type": "code",
   "execution_count": 14,
   "id": "7a331488",
   "metadata": {},
   "outputs": [],
   "source": [
    "class car(vehicle):\n",
    "    def seating_capacity( self, capacity):\n",
    "        self.capacity=capacity\n",
    "        return f\"Vehicle name is {self.name_of_vehicle} has seating capacity of {self.capacity}\""
   ]
  },
  {
   "cell_type": "code",
   "execution_count": 15,
   "id": "a497a7d1",
   "metadata": {},
   "outputs": [],
   "source": [
    "car1=car(\"toyota\",100,65)"
   ]
  },
  {
   "cell_type": "code",
   "execution_count": 16,
   "id": "010540cd",
   "metadata": {},
   "outputs": [],
   "source": [
    "capacity=car1.seating_capacity(8)"
   ]
  },
  {
   "cell_type": "code",
   "execution_count": 17,
   "id": "b92e7817",
   "metadata": {},
   "outputs": [
    {
     "name": "stdout",
     "output_type": "stream",
     "text": [
      "Vehicle name is toyota has seating capacity of 8\n"
     ]
    }
   ],
   "source": [
    "print(capacity)"
   ]
  },
  {
   "cell_type": "markdown",
   "id": "0b463b82",
   "metadata": {},
   "source": [
    "## Q3. What is multiple inheritance? Write a python code to demonstrate multiple inheritance.\n",
    "\n",
    "Multiple inheritance is feature of OOP where a class can inherit attributes and methods from more than one parent class."
   ]
  },
  {
   "cell_type": "code",
   "execution_count": 25,
   "id": "b2284a29",
   "metadata": {},
   "outputs": [],
   "source": [
    "# Parent class 1\n",
    "class Person:\n",
    "    def __init__(self, name, age):\n",
    "        self.name = name\n",
    "        self.age = age\n",
    "\n",
    "    def introduce(self):\n",
    "        print(f\"Hi, I'm {self.name}, and I'm {self.age} years old.\")\n",
    "\n",
    "# Parent class 2\n",
    "class Employee:\n",
    "    def __init__(self, emp_id, salary):\n",
    "        self.emp_id = emp_id\n",
    "        self.salary = salary\n",
    "\n",
    "    def work(self):\n",
    "        print(f\"I am an employee with ID {self.emp_id}, and I work for a salary of ${self.salary} per year.\")\n",
    "\n",
    "# Child class inheriting from both Person and Employee\n",
    "class Manager(Person, Employee):\n",
    "    def __init__(self, name, age, emp_id, salary, department):\n",
    "        Person.__init__(self, name, age)\n",
    "        Employee.__init__(self, emp_id, salary)\n",
    "        self.department = department\n",
    "\n",
    "    def manage(self):\n",
    "        print(f\"I am a manager in the {self.department} department.\")\n",
    "\n"
   ]
  },
  {
   "cell_type": "code",
   "execution_count": 27,
   "id": "9537044e",
   "metadata": {},
   "outputs": [
    {
     "name": "stdout",
     "output_type": "stream",
     "text": [
      "Hi, I'm Abhy, and I'm 25 years old.\n",
      "I am an employee with ID MGR123, and I work for a salary of $75000 per year.\n",
      "I am a manager in the HR department.\n"
     ]
    }
   ],
   "source": [
    "\n",
    "manager1 = Manager(\"Abhy\", 25, \"MGR123\", 75000, \"HR\")\n",
    "\n",
    "\n",
    "manager1.introduce()\n",
    "manager1.work()\n",
    "manager1.manage()"
   ]
  },
  {
   "cell_type": "markdown",
   "id": "adcfbf82",
   "metadata": {},
   "source": [
    "## Q4. What are getter and setter in python? Create a class and create a getter and a setter method in this class.\n",
    "\n",
    "Getter:-A getter method allows to retrive the value of an attribute.\n",
    "\n",
    "setter:- A setter methods allows to set or modify the value of an attribute.\n",
    "\n",
    "for example:-\n"
   ]
  },
  {
   "cell_type": "code",
   "execution_count": 29,
   "id": "5f1b1af7",
   "metadata": {},
   "outputs": [],
   "source": [
    "class Student:\n",
    "    def __init__(self, name, age):\n",
    "        self.__name=name\n",
    "        self.__age=age\n",
    "    def get_name(self):\n",
    "        return self.__name\n",
    "    def set_name(self,name):\n",
    "        self.__name=name\n",
    "        \n",
    "    def get_age(self):\n",
    "        return self.__age\n",
    "    def set_age (self, age):\n",
    "        self.__age=age\n",
    "            \n",
    "            "
   ]
  },
  {
   "cell_type": "code",
   "execution_count": 30,
   "id": "fd9f3ab1",
   "metadata": {},
   "outputs": [],
   "source": [
    "STUDENT1=Student(\"abhyuday\",25)"
   ]
  },
  {
   "cell_type": "code",
   "execution_count": 31,
   "id": "cbb02fc5",
   "metadata": {},
   "outputs": [
    {
     "data": {
      "text/plain": [
       "'abhyuday'"
      ]
     },
     "execution_count": 31,
     "metadata": {},
     "output_type": "execute_result"
    }
   ],
   "source": [
    "STUDENT1.get_name()"
   ]
  },
  {
   "cell_type": "code",
   "execution_count": 32,
   "id": "5651302f",
   "metadata": {},
   "outputs": [
    {
     "data": {
      "text/plain": [
       "25"
      ]
     },
     "execution_count": 32,
     "metadata": {},
     "output_type": "execute_result"
    }
   ],
   "source": [
    "STUDENT1.get_age()"
   ]
  },
  {
   "cell_type": "code",
   "execution_count": 34,
   "id": "6a9ce70c",
   "metadata": {},
   "outputs": [],
   "source": [
    "STUDENT1.set_name(\"Abhyuday Kumar\")"
   ]
  },
  {
   "cell_type": "code",
   "execution_count": 35,
   "id": "e42678b4",
   "metadata": {},
   "outputs": [],
   "source": [
    "STUDENT1.set_age(26)"
   ]
  },
  {
   "cell_type": "code",
   "execution_count": 37,
   "id": "91028f15",
   "metadata": {},
   "outputs": [
    {
     "data": {
      "text/plain": [
       "'Abhyuday Kumar'"
      ]
     },
     "execution_count": 37,
     "metadata": {},
     "output_type": "execute_result"
    }
   ],
   "source": [
    "STUDENT1.get_name()"
   ]
  },
  {
   "cell_type": "code",
   "execution_count": 38,
   "id": "da5d49b3",
   "metadata": {},
   "outputs": [
    {
     "data": {
      "text/plain": [
       "26"
      ]
     },
     "execution_count": 38,
     "metadata": {},
     "output_type": "execute_result"
    }
   ],
   "source": [
    "STUDENT1.get_age()"
   ]
  },
  {
   "cell_type": "markdown",
   "id": "dc68ef7f",
   "metadata": {},
   "source": [
    "## Q5.What is method overriding in python? Write a python code to demonstrate method overriding.\n",
    "\n",
    "Method Overriding:-\n",
    "Method overriding allows the sub class to provide a specific implementation of a method that is already  defined in its base class.Method overriding is a way to achive polymerphism.\n"
   ]
  },
  {
   "cell_type": "code",
   "execution_count": 39,
   "id": "2af3ed71",
   "metadata": {},
   "outputs": [],
   "source": [
    "class Person:\n",
    "    def __init__(self, name, age):\n",
    "        self.name = name\n",
    "        self.age = age\n",
    "\n",
    "    def introduce(self):\n",
    "        print(f\"Hi, I'm {self.name}, and I'm {self.age} years old.\")\n",
    "\n",
    "class Student(Person):\n",
    "    def __init__(self, name, age, student_id):\n",
    "        super().__init__(name, age)\n",
    "        self.student_id = student_id\n",
    "\n",
    "    def introduce(self):\n",
    "        print(f\"Hi, I'm {self.name}, and I'm {self.age} years old. My student ID is {self.student_id}.\")\n",
    "\n",
    "\n"
   ]
  },
  {
   "cell_type": "code",
   "execution_count": 41,
   "id": "452b5fd2",
   "metadata": {},
   "outputs": [
    {
     "name": "stdout",
     "output_type": "stream",
     "text": [
      "Hi, I'm Abhyuday, and I'm 30 years old.\n",
      "Hi, I'm Abhy, and I'm 20 years old. My student ID is ST123.\n"
     ]
    }
   ],
   "source": [
    "person1 = Person(\"Abhyuday\", 30)\n",
    "student1 = Student(\"Abhy\", 20, \"ST123\")\n",
    "\n",
    "person1.introduce()  \n",
    "student1.introduce()  "
   ]
  },
  {
   "cell_type": "code",
   "execution_count": null,
   "id": "3e2f73e1",
   "metadata": {},
   "outputs": [],
   "source": []
  }
 ],
 "metadata": {
  "kernelspec": {
   "display_name": "Python 3 (ipykernel)",
   "language": "python",
   "name": "python3"
  },
  "language_info": {
   "codemirror_mode": {
    "name": "ipython",
    "version": 3
   },
   "file_extension": ".py",
   "mimetype": "text/x-python",
   "name": "python",
   "nbconvert_exporter": "python",
   "pygments_lexer": "ipython3",
   "version": "3.9.13"
  }
 },
 "nbformat": 4,
 "nbformat_minor": 5
}
