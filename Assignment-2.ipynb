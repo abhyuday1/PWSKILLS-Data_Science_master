{
 "cells": [
  {
   "cell_type": "markdown",
   "id": "df84455a",
   "metadata": {},
   "source": [
    "## Q1. How do you comment code in Python? What are the different types of comments? "
   ]
  },
  {
   "cell_type": "raw",
   "id": "b0e0d7ed",
   "metadata": {},
   "source": [
    "In Python we can use hash symbol ('#')  to comment code. There are two types of comments.\n",
    "\n",
    "1. single line comment:-\n",
    "    These are the comments thats covers only a single line of a code.\n",
    "    Ex:- # this a single line comment\n",
    "        \n",
    "2. Multi-line comment:-\n",
    "    These comments are used to cover or document code, entire function, class, modlues. for multiline comment tripple quotes are used.\n",
    "    \n",
    "    EX:- \"\"\"\n",
    "        This is multiline comment.\n",
    "        It can cover multiple lines.\n",
    "    \"\"\""
   ]
  },
  {
   "cell_type": "markdown",
   "id": "b69ffb50",
   "metadata": {},
   "source": [
    "## Q2. What are variables in Python? How do you declare and assign values to variables?"
   ]
  },
  {
   "cell_type": "raw",
   "id": "7bcf9fa7",
   "metadata": {},
   "source": [
    "A variable is a symbolic name that refers to a value stored in the memory. it allows to store and  manipulate data in programs.\n",
    "to Decalre a Variable in python we use variable name followed by assignment operator '=' and the value we want to assign.\n",
    "\n",
    "EX:- Name= \"Abhyuday\""
   ]
  },
  {
   "cell_type": "markdown",
   "id": "019c2e8c",
   "metadata": {},
   "source": [
    "## Q3. How do you convert one data type to another in Python?# "
   ]
  },
  {
   "cell_type": "raw",
   "id": "fc8d06f9",
   "metadata": {},
   "source": [
    "In Python we convert one data type to another using the various in-built functions like, str(), list(), int() etc.\n",
    "\n",
    "for Example:-\n",
    "    num=23\n",
    "    num_str= str(num)\n",
    "    \n",
    "    O/P= 23    \"\"\" as String\"\"\"\n",
    "    "
   ]
  },
  {
   "cell_type": "markdown",
   "id": "1bb8d8da",
   "metadata": {},
   "source": [
    "## Q4. How do you write and execute a Python script from the command line?"
   ]
  },
  {
   "cell_type": "raw",
   "id": "b466e8c3",
   "metadata": {},
   "source": [
    "To write and execute a python script using command line:\n",
    "    1.write a script:-\n",
    "        To write a script we need a test editor or an IDE and save the file in '.py' format.\n",
    "    2.Execute the script:-\n",
    "        a. Open command-line interface and navigate to the folder wehere python script is located.\n",
    "        b. Execute the Script using the command ' python' followed by the script name.\n",
    "    "
   ]
  },
  {
   "cell_type": "markdown",
   "id": "2a2083d1",
   "metadata": {},
   "source": [
    "## Q5. Given a list my_list = [1, 2, 3, 4, 5], write the code to slice the list and obtain the sub-list [2, 3]."
   ]
  },
  {
   "cell_type": "code",
   "execution_count": 2,
   "id": "96d4a574",
   "metadata": {},
   "outputs": [],
   "source": [
    "my_list= [1,2,3,4,5]"
   ]
  },
  {
   "cell_type": "code",
   "execution_count": 3,
   "id": "bec4b792",
   "metadata": {},
   "outputs": [],
   "source": [
    "sliced_list=my_list[1:3]"
   ]
  },
  {
   "cell_type": "code",
   "execution_count": 4,
   "id": "c718184d",
   "metadata": {},
   "outputs": [
    {
     "data": {
      "text/plain": [
       "[2, 3]"
      ]
     },
     "execution_count": 4,
     "metadata": {},
     "output_type": "execute_result"
    }
   ],
   "source": [
    "sliced_list"
   ]
  },
  {
   "cell_type": "markdown",
   "id": "cf8650a1",
   "metadata": {},
   "source": [
    "## Q6. What is a complex number in mathematics, and how is it represented in Python?"
   ]
  },
  {
   "cell_type": "code",
   "execution_count": 5,
   "id": "410a4d1a",
   "metadata": {},
   "outputs": [
    {
     "data": {
      "text/plain": [
       "(4+5j)"
      ]
     },
     "execution_count": 5,
     "metadata": {},
     "output_type": "execute_result"
    }
   ],
   "source": [
    "\"\"\" A complex number is a number that comprises of both real and imaginary part. it is represented by 'a+bj' \n",
    "where a is the realpart and b is the imaginary part and 'i' is the unit of imaginary part.\n",
    "\n",
    "In Python Complex Number can be represented using complex() function or using j as suffix to denote the imaginary part.\n",
    "\n",
    "For Example:-\"\"\"\n",
    "z=complex(4,5)\n",
    "z\n",
    "\n",
    "\n"
   ]
  },
  {
   "cell_type": "code",
   "execution_count": 6,
   "id": "997b1936",
   "metadata": {},
   "outputs": [
    {
     "data": {
      "text/plain": [
       "complex"
      ]
     },
     "execution_count": 6,
     "metadata": {},
     "output_type": "execute_result"
    }
   ],
   "source": [
    "z1=4+5j\n",
    "type(z1)"
   ]
  },
  {
   "cell_type": "markdown",
   "id": "4a3b6c8d",
   "metadata": {},
   "source": [
    "## Q7. What is the correct way to declare a variable named age and assign the value 25 to it?"
   ]
  },
  {
   "cell_type": "code",
   "execution_count": 7,
   "id": "deff751b",
   "metadata": {},
   "outputs": [
    {
     "data": {
      "text/plain": [
       "25"
      ]
     },
     "execution_count": 7,
     "metadata": {},
     "output_type": "execute_result"
    }
   ],
   "source": [
    "age=25\n",
    "\n",
    "age"
   ]
  },
  {
   "cell_type": "markdown",
   "id": "e64a9a5a",
   "metadata": {},
   "source": [
    "## Q8. Declare a variable named price and assign the value 9.99 to it. What data type does this variable belong to?"
   ]
  },
  {
   "cell_type": "code",
   "execution_count": 8,
   "id": "d419e586",
   "metadata": {},
   "outputs": [
    {
     "data": {
      "text/plain": [
       "float"
      ]
     },
     "execution_count": 8,
     "metadata": {},
     "output_type": "execute_result"
    }
   ],
   "source": [
    "\"\"\" price Variable belong to Float data type\"\"\"\n",
    "\n",
    "price=9.99\n",
    "type(price)"
   ]
  },
  {
   "cell_type": "markdown",
   "id": "b159135c",
   "metadata": {},
   "source": [
    "## Q9. Create a variable named name and assign your full name to it as a string. How would you print the value of this variable?"
   ]
  },
  {
   "cell_type": "code",
   "execution_count": 9,
   "id": "238ad1d0",
   "metadata": {},
   "outputs": [
    {
     "name": "stdout",
     "output_type": "stream",
     "text": [
      "Abhyuday Kumar\n"
     ]
    }
   ],
   "source": [
    "name=\"Abhyuday Kumar\"\n",
    "print(name)"
   ]
  },
  {
   "cell_type": "markdown",
   "id": "7dabd017",
   "metadata": {},
   "source": [
    "## Q10. Given the string \"Hello, World!\", extract the substring \"World\"."
   ]
  },
  {
   "cell_type": "code",
   "execution_count": 10,
   "id": "ebb1e6e1",
   "metadata": {},
   "outputs": [
    {
     "data": {
      "text/plain": [
       "13"
      ]
     },
     "execution_count": 10,
     "metadata": {},
     "output_type": "execute_result"
    }
   ],
   "source": [
    "var= \"Hello, World!\"\n",
    "\n",
    "len(var)"
   ]
  },
  {
   "cell_type": "code",
   "execution_count": 12,
   "id": "79845cdb",
   "metadata": {},
   "outputs": [
    {
     "data": {
      "text/plain": [
       "'World'"
      ]
     },
     "execution_count": 12,
     "metadata": {},
     "output_type": "execute_result"
    }
   ],
   "source": [
    "var[7:12]"
   ]
  },
  {
   "cell_type": "markdown",
   "id": "7feebfbb",
   "metadata": {},
   "source": [
    "## Q11. Create a variable named \"is_student\" and assign it a boolean value indicating whether you are currently a student or not."
   ]
  },
  {
   "cell_type": "code",
   "execution_count": 13,
   "id": "0e91aef7",
   "metadata": {},
   "outputs": [
    {
     "data": {
      "text/plain": [
       "bool"
      ]
     },
     "execution_count": 13,
     "metadata": {},
     "output_type": "execute_result"
    }
   ],
   "source": [
    "is_student=False\n",
    "type(is_student)"
   ]
  },
  {
   "cell_type": "code",
   "execution_count": null,
   "id": "c6284936",
   "metadata": {},
   "outputs": [],
   "source": []
  }
 ],
 "metadata": {
  "kernelspec": {
   "display_name": "Python 3 (ipykernel)",
   "language": "python",
   "name": "python3"
  },
  "language_info": {
   "codemirror_mode": {
    "name": "ipython",
    "version": 3
   },
   "file_extension": ".py",
   "mimetype": "text/x-python",
   "name": "python",
   "nbconvert_exporter": "python",
   "pygments_lexer": "ipython3",
   "version": "3.9.13"
  }
 },
 "nbformat": 4,
 "nbformat_minor": 5
}
