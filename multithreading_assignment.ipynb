{
 "cells": [
  {
   "cell_type": "markdown",
   "id": "9baa1c2c-4113-4ac2-a985-40382af26212",
   "metadata": {},
   "source": [
    "## 1. what is multithreading in python? why is it used? Name the module used to handle threads in python\n",
    "\n",
    "--Multithreading in Python refers to the concurrent execution of multiple threads within a single Python process. Each thread represents a separate flow of control, allowing program to perform multiple tasks concurrently, or in parallel.\n",
    "\n",
    "Uses:-\n",
    "Multithreading is often used for I/O-bound tasks where threads spend a significant amount of time waiting for input/output operations to complete, such as web scraping, network requests, or reading/writing files. It is not as effective for CPU-bound tasks that require intense computation.\n",
    "\n",
    "\n",
    "--- built-in module \"Threading\" is used to handle the threads. This module provides classes and functions to create and manage threads."
   ]
  },
  {
   "cell_type": "markdown",
   "id": "e2937999-71f8-4944-adfb-e9ea6b0dce6d",
   "metadata": {},
   "source": [
    "## 2. why threading module used? rite the use of the following functions\n",
    " activeCount()\n",
    " currentThread()\n",
    " enumerate()\n",
    " \n",
    " --The threading module in Python is used for working with threads. It provides a way to create, manage, and control threads in a program.\n",
    " \n",
    " 1. activeCount():-activeCount() is a function that returns the number of Thread objects currently alive. These are threads that have been created and started but have not yet finished executing or have not been explicitly terminated.\n",
    " \n",
    " 2. currentThread():-currentThread() is a function that returns the current Thread object, representing the thread from which this function is called.\n",
    " \n",
    " 3. enumerate() :-enumerate() is a function that returns a list of all currently active Thread objects. It is essentially a way to get a list of all threads that are alive."
   ]
  },
  {
   "cell_type": "markdown",
   "id": "65909f50-d433-44d0-b3d3-a409437f5c83",
   "metadata": {},
   "source": [
    "## 3. Explain the following functions\n",
    " run()\n",
    " start()\n",
    " join()\n",
    " isAlive()\n",
    " \n",
    " 1. run() :- It is the method where behaviour of the Thread is defined. run method should be overridden in custom thread  thread class to specify the code that the thread should execute.\n",
    " \n",
    " 2. start():-The start() method is used to initiate the execution of a thread. it creates a new thread and begins the execution of the thread's run() method in parallel with the main thread or other threads.\n",
    " \n",
    " 3. join():-The join() method is used to block the execution of the current thread until the thread on which join() is called completes its execution. It is a way to wait for a thread to finish before moving on with the rest of the program.\n",
    " 4. isALive():- The isAlive() method is used to check if a thread is currently running (alive) or has completed its execution (dead). It returns True if the thread is still running and False if it has finished.\n"
   ]
  },
  {
   "cell_type": "markdown",
   "id": "3ca261a6-802b-402e-b707-663867815626",
   "metadata": {},
   "source": [
    "## 4. write a python program to create two threads. Thread one must print the list of squares and thread two must print the list of cubes.\n",
    "\n"
   ]
  },
  {
   "cell_type": "code",
   "execution_count": 3,
   "id": "516642f2-eb88-4bee-8ccb-e72f8bb1a72b",
   "metadata": {},
   "outputs": [
    {
     "name": "stdout",
     "output_type": "stream",
     "text": [
      "Square of 1 is 1\n",
      "Square of 2 is 4\n",
      "Square of 3 is 9\n",
      "Square of 4 is 16\n",
      "Square of 5 is 25\n",
      "Cube of 1 is 1\n",
      "Cube of 2 is 8\n",
      "Cube of 3 is 27\n",
      "Cube of 4 is 64\n",
      "Cube of 5 is 125\n"
     ]
    }
   ],
   "source": [
    "import threading\n",
    "\n",
    "def print_squares():\n",
    "    for i in range(1, 6):\n",
    "        print(f\"Square of {i} is {i * i}\")\n",
    "\n",
    "def print_cubes():\n",
    "    for i in range(1, 6):\n",
    "        print(f\"Cube of {i} is {i * i * i}\")\n",
    "\n",
    "\n",
    "thread1 = threading.Thread(target=print_squares)\n",
    "thread2 = threading.Thread(target=print_cubes)\n",
    "\n",
    "\n",
    "thread1.start()\n",
    "thread1.join()\n",
    "thread2.start()\n",
    "\n",
    "\n",
    "\n",
    "thread2.join()\n",
    "\n",
    "\n"
   ]
  },
  {
   "cell_type": "markdown",
   "id": "408538b6-6da5-41b3-a8e2-4c8dac61e589",
   "metadata": {},
   "source": [
    "## 5. State advantages and disadvantages of multithreading\n",
    "\n",
    "Advantages:\n",
    "1. Faster Execution: For compute-intensive tasks that can be parallelized, multithreading can lead to faster execution by utilizing multiple CPU cores.\n",
    "2. Resource Sharing: Threads within the same process can share data and memory.\n",
    "3. Efficient Resource Utilization: In situations where tasks are I/O-bound (e.g., waiting for user input, reading/writing files, or making network requests), multithreading can efficiently utilize system resources by allowing other threads to execute while some are waiting.\n",
    "\n",
    "Disadvantages:-\n",
    "1. Complexity: Multithreading introduces complexity to a program. Managing threads, coordinating their execution can be error-prone and challenging to debug.\n",
    "2. Difficulty in Debugging: Debugging multithreaded programs can be more challenging than single-threaded ones."
   ]
  },
  {
   "cell_type": "markdown",
   "id": "710161cb-289f-4369-a88a-b799bb40c3ef",
   "metadata": {},
   "source": [
    "## 6. Explain deadlocks and race conditions.\n",
    "\n",
    "Deadlocks:- A deadlock is a situation in which two or more threads or processes are unable to proceed because they are  waiting for the eachother(s) to release a resource. In a deadlock, the involved threads or processes are effectively stuck, and the program cannot make any progress.\n",
    "\n",
    "Race Condition:-\n",
    "A race condition is a situation in concurrent programming where the behavior of a program depends on the relative timing or order of execution of multiple threads or processes. In other words, the outcome of a program becomes unpredictable because it depends on which thread or process executes its code first."
   ]
  },
  {
   "cell_type": "code",
   "execution_count": null,
   "id": "7f1b95bb-650e-4151-adb2-449f648803be",
   "metadata": {},
   "outputs": [],
   "source": []
  }
 ],
 "metadata": {
  "kernelspec": {
   "display_name": "Python 3 (ipykernel)",
   "language": "python",
   "name": "python3"
  },
  "language_info": {
   "codemirror_mode": {
    "name": "ipython",
    "version": 3
   },
   "file_extension": ".py",
   "mimetype": "text/x-python",
   "name": "python",
   "nbconvert_exporter": "python",
   "pygments_lexer": "ipython3",
   "version": "3.10.8"
  }
 },
 "nbformat": 4,
 "nbformat_minor": 5
}
