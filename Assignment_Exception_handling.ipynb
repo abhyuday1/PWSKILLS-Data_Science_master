{
 "cells": [
  {
   "cell_type": "markdown",
   "id": "7fa1d7d4",
   "metadata": {},
   "source": [
    "## Q1. What is an exception in python? write  the difference between exception and syntax errors.\n",
    "\n",
    "--Exception is an Event that occurs during the execution of the program that disrupts the normal flow of the program. its used to handle errors and other exceptional situations that may occur during runtime.\n",
    "\n",
    "if any execption is raissed, the python interpreter llooks for an excption handler to prevent the program from crashing. if no appropriate handler is found, the program terminates with error messages and type of execption.\n",
    "\n",
    "---Difference between syntax error and exception:-\n",
    "1. Execption  are runtime errors that occurs while program is executing whereas syntax error are detected during the parsing phase before the program starts to run.\n",
    "\n",
    "2. Exceptions occurs due to logical error,unexpected inputs, missing files etc, whereas syntas errors occurs dute the violations of the python's syntax rules like, missing paranthesis, incorrect intendation etc.\n",
    "\n",
    "3. Exceptions can be handled using 'try' and 'except'. Allowing the program to run even in presence of errors. whereas syntax errors must be fixed before the program can be executed."
   ]
  },
  {
   "cell_type": "markdown",
   "id": "f06ba937",
   "metadata": {},
   "source": [
    "##  Q2. What hapeens when an exception is not handled? expain with an example\n",
    "\n",
    "--When an exception is not handled in a Python program, it will propagate up through the call stack. If it reaches the top level of the program without being caught, the program will exit, and an error message will be displayed, indicating the type of exception and where it occurred. it can disrupt the normal operation of the program.\n",
    "\n",
    "for example:-\n"
   ]
  },
  {
   "cell_type": "code",
   "execution_count": 1,
   "id": "aef5471a",
   "metadata": {},
   "outputs": [
    {
     "name": "stdout",
     "output_type": "stream",
     "text": [
      "Error: division by zero\n"
     ]
    }
   ],
   "source": [
    "def divide(x, y):\n",
    "    result = x / y\n",
    "    return result\n",
    "\n",
    "try:\n",
    "    result = divide(10, 0)\n",
    "except ZeroDivisionError as e:\n",
    "    print(f\"Error: {e}\")\n"
   ]
  },
  {
   "cell_type": "code",
   "execution_count": 2,
   "id": "3d1d0880",
   "metadata": {},
   "outputs": [
    {
     "ename": "ZeroDivisionError",
     "evalue": "division by zero",
     "output_type": "error",
     "traceback": [
      "\u001b[1;31m---------------------------------------------------------------------------\u001b[0m",
      "\u001b[1;31mZeroDivisionError\u001b[0m                         Traceback (most recent call last)",
      "\u001b[1;32m~\\AppData\\Local\\Temp\\ipykernel_3812\\2717346297.py\u001b[0m in \u001b[0;36m<module>\u001b[1;34m\u001b[0m\n\u001b[0;32m      5\u001b[0m     \u001b[1;32mreturn\u001b[0m \u001b[0mresult\u001b[0m\u001b[1;33m\u001b[0m\u001b[1;33m\u001b[0m\u001b[0m\n\u001b[0;32m      6\u001b[0m \u001b[1;33m\u001b[0m\u001b[0m\n\u001b[1;32m----> 7\u001b[1;33m \u001b[0mresult\u001b[0m \u001b[1;33m=\u001b[0m \u001b[0mdivide\u001b[0m\u001b[1;33m(\u001b[0m\u001b[1;36m10\u001b[0m\u001b[1;33m,\u001b[0m \u001b[1;36m0\u001b[0m\u001b[1;33m)\u001b[0m\u001b[1;33m\u001b[0m\u001b[1;33m\u001b[0m\u001b[0m\n\u001b[0m",
      "\u001b[1;32m~\\AppData\\Local\\Temp\\ipykernel_3812\\2717346297.py\u001b[0m in \u001b[0;36mdivide\u001b[1;34m(x, y)\u001b[0m\n\u001b[0;32m      2\u001b[0m \u001b[1;33m\u001b[0m\u001b[0m\n\u001b[0;32m      3\u001b[0m \u001b[1;32mdef\u001b[0m \u001b[0mdivide\u001b[0m\u001b[1;33m(\u001b[0m\u001b[0mx\u001b[0m\u001b[1;33m,\u001b[0m \u001b[0my\u001b[0m\u001b[1;33m)\u001b[0m\u001b[1;33m:\u001b[0m\u001b[1;33m\u001b[0m\u001b[1;33m\u001b[0m\u001b[0m\n\u001b[1;32m----> 4\u001b[1;33m     \u001b[0mresult\u001b[0m \u001b[1;33m=\u001b[0m \u001b[0mx\u001b[0m \u001b[1;33m/\u001b[0m \u001b[0my\u001b[0m\u001b[1;33m\u001b[0m\u001b[1;33m\u001b[0m\u001b[0m\n\u001b[0m\u001b[0;32m      5\u001b[0m     \u001b[1;32mreturn\u001b[0m \u001b[0mresult\u001b[0m\u001b[1;33m\u001b[0m\u001b[1;33m\u001b[0m\u001b[0m\n\u001b[0;32m      6\u001b[0m \u001b[1;33m\u001b[0m\u001b[0m\n",
      "\u001b[1;31mZeroDivisionError\u001b[0m: division by zero"
     ]
    }
   ],
   "source": [
    "# if exception is not handled:-\n",
    "\n",
    "def divide(x, y):\n",
    "    result = x / y\n",
    "    return result\n",
    "\n",
    "result = divide(10, 0)\n"
   ]
  },
  {
   "cell_type": "markdown",
   "id": "64e416d1",
   "metadata": {},
   "source": [
    "## Q3.which python statements are used to  catch and handle exceptions? explain with an example\n",
    "\n",
    "--In Python, we can catch and handle exceptions using the try and except statements. These statements allow us to specify a block of code to \"try,\" and if an exception is raised within that block, we can specify another block of code to \"catch\" and handle the exception. \n",
    "\n",
    "--Python also provides the finally statement, which is used to specify a block of code that will always be executed, regardless of whether an exception was raised or not.\n",
    "\n",
    "for example:-\n"
   ]
  },
  {
   "cell_type": "code",
   "execution_count": 4,
   "id": "361d6028",
   "metadata": {},
   "outputs": [
    {
     "name": "stdout",
     "output_type": "stream",
     "text": [
      "Error: File not found.\n",
      "finally executed\n"
     ]
    }
   ],
   "source": [
    "try:\n",
    "    file = open(\"assignmet.txt\", \"r\")\n",
    "    data = file.read()\n",
    "    print(data)\n",
    "except FileNotFoundError as e:\n",
    "    print(\"Error: File not found.\")\n",
    "finally:\n",
    "    if 'file' in locals():\n",
    "        file.close()\n",
    "        print(\"File closed.\")\n",
    "    print(\"finally executed\")\n"
   ]
  },
  {
   "cell_type": "markdown",
   "id": "b7cdddac",
   "metadata": {},
   "source": [
    "## 4. Explain with an example:\n",
    "\n",
    "1. try and else\n",
    "2. finally\n",
    "3. rasie\n",
    "\n",
    "\n",
    "--1. try and else:\n",
    "The try block is used for a section of code where we expect exceptions might occur. If an exception is raised within the try block, it is caught and processed in the except block. However, we can use the else block in combination with try to specify a block of code that should run only if no exceptions were raised in the try block.\n",
    "\n",
    "for examplle:-\n"
   ]
  },
  {
   "cell_type": "code",
   "execution_count": 5,
   "id": "a04eb843",
   "metadata": {},
   "outputs": [
    {
     "name": "stdout",
     "output_type": "stream",
     "text": [
      "Enter a number: 10\n",
      "Enter another number: 3\n",
      "Result: 3.3333333333333335\n"
     ]
    }
   ],
   "source": [
    "try:\n",
    "    num1 = int(input(\"Enter a number: \"))\n",
    "    num2 = int(input(\"Enter another number: \"))\n",
    "    result = num1 / num2\n",
    "except ZeroDivisionError as e:\n",
    "    print(\"Error: You cannot divide by zero.\")\n",
    "else:\n",
    "    print(\"Result:\", result)\n"
   ]
  },
  {
   "cell_type": "code",
   "execution_count": 6,
   "id": "75a86e13",
   "metadata": {},
   "outputs": [
    {
     "name": "stdout",
     "output_type": "stream",
     "text": [
      "Error: File not found.\n"
     ]
    }
   ],
   "source": [
    "\"\"\"2. finally:\n",
    "The finally block is used to specify a block of code that always runs, regardless of whether an exception is raised or not.\n",
    "It is typically used for cleanup operations, like closing files or releasing resources.\n",
    "\n",
    "for example:-\"\"\"\n",
    "\n",
    "try:\n",
    "    file = open(\"abhyuday.txt\", \"r\")\n",
    "    data = file.read()\n",
    "    print(data)\n",
    "except FileNotFoundError as e:\n",
    "    print(\"Error: File not found.\")\n",
    "finally:\n",
    "    if 'file' in locals():\n",
    "        file.close()\n",
    "        print(\"File closed.\")\n"
   ]
  },
  {
   "cell_type": "code",
   "execution_count": 7,
   "id": "2c7a1622",
   "metadata": {},
   "outputs": [
    {
     "name": "stdout",
     "output_type": "stream",
     "text": [
      "Error: Division by zero is not allowed\n"
     ]
    }
   ],
   "source": [
    "\"\"\"3. raise:\n",
    "The raise statement is used to explicitly raise an exception in code. we can raise built-in exceptions or create \n",
    "custom exceptions by defining our own exception classes.\n",
    "\n",
    "for example:-\"\"\"\n",
    "\n",
    "def divide(x, y):\n",
    "    if y == 0:\n",
    "        raise ZeroDivisionError(\"Division by zero is not allowed\")\n",
    "    return x / y\n",
    "\n",
    "try:\n",
    "    result = divide(15, 0)\n",
    "except ZeroDivisionError as e:\n",
    "    print(\"Error:\", e)\n"
   ]
  },
  {
   "cell_type": "markdown",
   "id": "5da2bf58",
   "metadata": {},
   "source": [
    "## 5.  what are the custom exceptions in  python? why do we need custom exception? explain with an example\n",
    "\n",
    "--Custom exceptions in Python are user-defined exceptions that extend the built-in exception classes  to represent specific error conditions in  programs. it handles application-specific errors more precisely and help make code more readable and maintainable.\n",
    "\n",
    "-- Custom exceptions provide more descriptive and meaningful error messages, making it easier to understand and debug issues in code.\n",
    "\n",
    "--Custom exceptions help maintain a consistent error-handling approach throughout your codebase.\n",
    "\n",
    "for example:-\n"
   ]
  },
  {
   "cell_type": "code",
   "execution_count": 9,
   "id": "147602d7",
   "metadata": {},
   "outputs": [
    {
     "name": "stdout",
     "output_type": "stream",
     "text": [
      "Error: Insufficient funds. Current balance: 1000, Attempted withdrawal: 2000\n"
     ]
    }
   ],
   "source": [
    "class InsufficientFundsError(Exception):\n",
    "    \"\"\"Custom exception for insufficient funds in a bank account.\"\"\"\n",
    "    def __init__(self, balance, amount):\n",
    "        super().__init__(f\"Insufficient funds. Current balance: {balance}, Attempted withdrawal: {amount}\")\n",
    "        self.balance = balance\n",
    "        self.amount = amount\n",
    "\n",
    "def withdraw(account_balance, amount_to_withdraw):\n",
    "    if amount_to_withdraw > account_balance:\n",
    "        raise InsufficientFundsError(account_balance, amount_to_withdraw)\n",
    "    return account_balance - amount_to_withdraw\n",
    "\n",
    "try:\n",
    "    account_balance = 1000\n",
    "    amount = 2000\n",
    "    new_balance = withdraw(account_balance, amount)\n",
    "except InsufficientFundsError as e:\n",
    "    print(f\"Error: {e}\")\n",
    "else:\n",
    "    print(f\"Withdrawal successful. New balance: {new_balance}\")\n"
   ]
  },
  {
   "cell_type": "markdown",
   "id": "319068c2",
   "metadata": {},
   "source": [
    "## 6. create a custom exception class. Use this class to handle an exception "
   ]
  },
  {
   "cell_type": "code",
   "execution_count": null,
   "id": "684e0a03",
   "metadata": {},
   "outputs": [],
   "source": [
    "class PasswordCriteriaError(ValueError):\n",
    "    \"\"\"Custom exception for handling password criteria errors.\"\"\"\n",
    "    def __init__(self, message=\"Password does not meet criteria\"):\n",
    "        super().__init__(message)\n",
    "\n",
    "def check_password_criteria(password):\n",
    "    if len(password) < 8:\n",
    "        raise PasswordCriteriaError(\"Password must be at least 8 characters long\")\n",
    "    \n",
    "    if not any(char.isdigit() for char in password):\n",
    "        raise PasswordCriteriaError(\"Password must contain at least one digit\")\n",
    "\n",
    "try:\n",
    "    user_password = input(\"Enter a password: \")\n",
    "    check_password_criteria(user_password)\n",
    "    print(\"Password meets criteria.\")\n",
    "except PasswordCriteriaError as e:\n",
    "    print(f\"Error: {e}\")\n"
   ]
  }
 ],
 "metadata": {
  "kernelspec": {
   "display_name": "Python 3 (ipykernel)",
   "language": "python",
   "name": "python3"
  },
  "language_info": {
   "codemirror_mode": {
    "name": "ipython",
    "version": 3
   },
   "file_extension": ".py",
   "mimetype": "text/x-python",
   "name": "python",
   "nbconvert_exporter": "python",
   "pygments_lexer": "ipython3",
   "version": "3.9.13"
  }
 },
 "nbformat": 4,
 "nbformat_minor": 5
}
